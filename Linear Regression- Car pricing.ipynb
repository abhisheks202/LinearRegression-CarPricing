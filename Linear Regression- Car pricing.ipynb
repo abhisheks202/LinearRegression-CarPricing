{
 "cells": [
  {
   "cell_type": "markdown",
   "metadata": {},
   "source": [
    "#  Multiple Linear Regression assignment\n",
    "\n",
    "## Car pricing  case study\n",
    "\n",
    "#### Problem Statement:\n",
    "\n",
    "A Chinese automobile company Geely Auto aspires to enter the US market by setting up their manufacturing unit there and \n",
    "producing cars locally to give competition to their US and European counterparts. \n",
    "\n",
    "The company wants to know:\n",
    " - Which variables are significant in predicting the price of a car\n",
    " - How well those variables describe the price of a car"
   ]
  },
  {
   "cell_type": "code",
   "execution_count": 1,
   "metadata": {},
   "outputs": [],
   "source": [
    "# importing required libraries\n",
    "import numpy as np\n",
    "import pandas as pd\n",
    "import matplotlib.pyplot as plt \n",
    "import seaborn as sns\n",
    "%matplotlib inline\n",
    "\n",
    "from sklearn.model_selection import train_test_split\n",
    "from sklearn.preprocessing import MinMaxScaler\n",
    "\n",
    "# Importing RFE and LinearRegression\n",
    "from sklearn.feature_selection import RFE\n",
    "from sklearn.linear_model import LinearRegression\n",
    "\n",
    "import warnings\n",
    "warnings.filterwarnings('ignore')"
   ]
  },
  {
   "cell_type": "markdown",
   "metadata": {},
   "source": [
    "### Data Reading and Understanding"
   ]
  },
  {
   "cell_type": "code",
   "execution_count": 2,
   "metadata": {},
   "outputs": [
    {
     "data": {
      "text/html": [
       "<div>\n",
       "<style scoped>\n",
       "    .dataframe tbody tr th:only-of-type {\n",
       "        vertical-align: middle;\n",
       "    }\n",
       "\n",
       "    .dataframe tbody tr th {\n",
       "        vertical-align: top;\n",
       "    }\n",
       "\n",
       "    .dataframe thead th {\n",
       "        text-align: right;\n",
       "    }\n",
       "</style>\n",
       "<table border=\"1\" class=\"dataframe\">\n",
       "  <thead>\n",
       "    <tr style=\"text-align: right;\">\n",
       "      <th></th>\n",
       "      <th>car_ID</th>\n",
       "      <th>symboling</th>\n",
       "      <th>CarName</th>\n",
       "      <th>fueltype</th>\n",
       "      <th>aspiration</th>\n",
       "      <th>doornumber</th>\n",
       "      <th>carbody</th>\n",
       "      <th>drivewheel</th>\n",
       "      <th>enginelocation</th>\n",
       "      <th>wheelbase</th>\n",
       "      <th>...</th>\n",
       "      <th>enginesize</th>\n",
       "      <th>fuelsystem</th>\n",
       "      <th>boreratio</th>\n",
       "      <th>stroke</th>\n",
       "      <th>compressionratio</th>\n",
       "      <th>horsepower</th>\n",
       "      <th>peakrpm</th>\n",
       "      <th>citympg</th>\n",
       "      <th>highwaympg</th>\n",
       "      <th>price</th>\n",
       "    </tr>\n",
       "  </thead>\n",
       "  <tbody>\n",
       "    <tr>\n",
       "      <td>0</td>\n",
       "      <td>1</td>\n",
       "      <td>3</td>\n",
       "      <td>alfa-romero giulia</td>\n",
       "      <td>gas</td>\n",
       "      <td>std</td>\n",
       "      <td>two</td>\n",
       "      <td>convertible</td>\n",
       "      <td>rwd</td>\n",
       "      <td>front</td>\n",
       "      <td>88.6</td>\n",
       "      <td>...</td>\n",
       "      <td>130</td>\n",
       "      <td>mpfi</td>\n",
       "      <td>3.47</td>\n",
       "      <td>2.68</td>\n",
       "      <td>9.0</td>\n",
       "      <td>111</td>\n",
       "      <td>5000</td>\n",
       "      <td>21</td>\n",
       "      <td>27</td>\n",
       "      <td>13495.0</td>\n",
       "    </tr>\n",
       "    <tr>\n",
       "      <td>1</td>\n",
       "      <td>2</td>\n",
       "      <td>3</td>\n",
       "      <td>alfa-romero stelvio</td>\n",
       "      <td>gas</td>\n",
       "      <td>std</td>\n",
       "      <td>two</td>\n",
       "      <td>convertible</td>\n",
       "      <td>rwd</td>\n",
       "      <td>front</td>\n",
       "      <td>88.6</td>\n",
       "      <td>...</td>\n",
       "      <td>130</td>\n",
       "      <td>mpfi</td>\n",
       "      <td>3.47</td>\n",
       "      <td>2.68</td>\n",
       "      <td>9.0</td>\n",
       "      <td>111</td>\n",
       "      <td>5000</td>\n",
       "      <td>21</td>\n",
       "      <td>27</td>\n",
       "      <td>16500.0</td>\n",
       "    </tr>\n",
       "    <tr>\n",
       "      <td>2</td>\n",
       "      <td>3</td>\n",
       "      <td>1</td>\n",
       "      <td>alfa-romero Quadrifoglio</td>\n",
       "      <td>gas</td>\n",
       "      <td>std</td>\n",
       "      <td>two</td>\n",
       "      <td>hatchback</td>\n",
       "      <td>rwd</td>\n",
       "      <td>front</td>\n",
       "      <td>94.5</td>\n",
       "      <td>...</td>\n",
       "      <td>152</td>\n",
       "      <td>mpfi</td>\n",
       "      <td>2.68</td>\n",
       "      <td>3.47</td>\n",
       "      <td>9.0</td>\n",
       "      <td>154</td>\n",
       "      <td>5000</td>\n",
       "      <td>19</td>\n",
       "      <td>26</td>\n",
       "      <td>16500.0</td>\n",
       "    </tr>\n",
       "    <tr>\n",
       "      <td>3</td>\n",
       "      <td>4</td>\n",
       "      <td>2</td>\n",
       "      <td>audi 100 ls</td>\n",
       "      <td>gas</td>\n",
       "      <td>std</td>\n",
       "      <td>four</td>\n",
       "      <td>sedan</td>\n",
       "      <td>fwd</td>\n",
       "      <td>front</td>\n",
       "      <td>99.8</td>\n",
       "      <td>...</td>\n",
       "      <td>109</td>\n",
       "      <td>mpfi</td>\n",
       "      <td>3.19</td>\n",
       "      <td>3.40</td>\n",
       "      <td>10.0</td>\n",
       "      <td>102</td>\n",
       "      <td>5500</td>\n",
       "      <td>24</td>\n",
       "      <td>30</td>\n",
       "      <td>13950.0</td>\n",
       "    </tr>\n",
       "    <tr>\n",
       "      <td>4</td>\n",
       "      <td>5</td>\n",
       "      <td>2</td>\n",
       "      <td>audi 100ls</td>\n",
       "      <td>gas</td>\n",
       "      <td>std</td>\n",
       "      <td>four</td>\n",
       "      <td>sedan</td>\n",
       "      <td>4wd</td>\n",
       "      <td>front</td>\n",
       "      <td>99.4</td>\n",
       "      <td>...</td>\n",
       "      <td>136</td>\n",
       "      <td>mpfi</td>\n",
       "      <td>3.19</td>\n",
       "      <td>3.40</td>\n",
       "      <td>8.0</td>\n",
       "      <td>115</td>\n",
       "      <td>5500</td>\n",
       "      <td>18</td>\n",
       "      <td>22</td>\n",
       "      <td>17450.0</td>\n",
       "    </tr>\n",
       "  </tbody>\n",
       "</table>\n",
       "<p>5 rows × 26 columns</p>\n",
       "</div>"
      ],
      "text/plain": [
       "   car_ID  symboling                   CarName fueltype aspiration doornumber  \\\n",
       "0       1          3        alfa-romero giulia      gas        std        two   \n",
       "1       2          3       alfa-romero stelvio      gas        std        two   \n",
       "2       3          1  alfa-romero Quadrifoglio      gas        std        two   \n",
       "3       4          2               audi 100 ls      gas        std       four   \n",
       "4       5          2                audi 100ls      gas        std       four   \n",
       "\n",
       "       carbody drivewheel enginelocation  wheelbase  ...  enginesize  \\\n",
       "0  convertible        rwd          front       88.6  ...         130   \n",
       "1  convertible        rwd          front       88.6  ...         130   \n",
       "2    hatchback        rwd          front       94.5  ...         152   \n",
       "3        sedan        fwd          front       99.8  ...         109   \n",
       "4        sedan        4wd          front       99.4  ...         136   \n",
       "\n",
       "   fuelsystem  boreratio  stroke compressionratio horsepower  peakrpm citympg  \\\n",
       "0        mpfi       3.47    2.68              9.0        111     5000      21   \n",
       "1        mpfi       3.47    2.68              9.0        111     5000      21   \n",
       "2        mpfi       2.68    3.47              9.0        154     5000      19   \n",
       "3        mpfi       3.19    3.40             10.0        102     5500      24   \n",
       "4        mpfi       3.19    3.40              8.0        115     5500      18   \n",
       "\n",
       "   highwaympg    price  \n",
       "0          27  13495.0  \n",
       "1          27  16500.0  \n",
       "2          26  16500.0  \n",
       "3          30  13950.0  \n",
       "4          22  17450.0  \n",
       "\n",
       "[5 rows x 26 columns]"
      ]
     },
     "execution_count": 2,
     "metadata": {},
     "output_type": "execute_result"
    }
   ],
   "source": [
    "# Read the input data set\n",
    "car_pricing_df = pd.read_csv(\"CarPrice_Assignment.csv\", encoding='utf-8')\n",
    "car_pricing_df.head()"
   ]
  },
  {
   "cell_type": "code",
   "execution_count": 3,
   "metadata": {},
   "outputs": [
    {
     "data": {
      "text/plain": [
       "(205, 26)"
      ]
     },
     "execution_count": 3,
     "metadata": {},
     "output_type": "execute_result"
    }
   ],
   "source": [
    "# To get the shape of the dataset\n",
    "car_pricing_df.shape"
   ]
  },
  {
   "cell_type": "code",
   "execution_count": 4,
   "metadata": {},
   "outputs": [
    {
     "name": "stdout",
     "output_type": "stream",
     "text": [
      "<class 'pandas.core.frame.DataFrame'>\n",
      "RangeIndex: 205 entries, 0 to 204\n",
      "Data columns (total 26 columns):\n",
      "car_ID              205 non-null int64\n",
      "symboling           205 non-null int64\n",
      "CarName             205 non-null object\n",
      "fueltype            205 non-null object\n",
      "aspiration          205 non-null object\n",
      "doornumber          205 non-null object\n",
      "carbody             205 non-null object\n",
      "drivewheel          205 non-null object\n",
      "enginelocation      205 non-null object\n",
      "wheelbase           205 non-null float64\n",
      "carlength           205 non-null float64\n",
      "carwidth            205 non-null float64\n",
      "carheight           205 non-null float64\n",
      "curbweight          205 non-null int64\n",
      "enginetype          205 non-null object\n",
      "cylindernumber      205 non-null object\n",
      "enginesize          205 non-null int64\n",
      "fuelsystem          205 non-null object\n",
      "boreratio           205 non-null float64\n",
      "stroke              205 non-null float64\n",
      "compressionratio    205 non-null float64\n",
      "horsepower          205 non-null int64\n",
      "peakrpm             205 non-null int64\n",
      "citympg             205 non-null int64\n",
      "highwaympg          205 non-null int64\n",
      "price               205 non-null float64\n",
      "dtypes: float64(8), int64(8), object(10)\n",
      "memory usage: 41.8+ KB\n"
     ]
    }
   ],
   "source": [
    "car_pricing_df.info()"
   ]
  },
  {
   "cell_type": "code",
   "execution_count": 5,
   "metadata": {},
   "outputs": [
    {
     "data": {
      "text/html": [
       "<div>\n",
       "<style scoped>\n",
       "    .dataframe tbody tr th:only-of-type {\n",
       "        vertical-align: middle;\n",
       "    }\n",
       "\n",
       "    .dataframe tbody tr th {\n",
       "        vertical-align: top;\n",
       "    }\n",
       "\n",
       "    .dataframe thead th {\n",
       "        text-align: right;\n",
       "    }\n",
       "</style>\n",
       "<table border=\"1\" class=\"dataframe\">\n",
       "  <thead>\n",
       "    <tr style=\"text-align: right;\">\n",
       "      <th></th>\n",
       "      <th>count</th>\n",
       "      <th>mean</th>\n",
       "      <th>std</th>\n",
       "      <th>min</th>\n",
       "      <th>25%</th>\n",
       "      <th>50%</th>\n",
       "      <th>75%</th>\n",
       "      <th>max</th>\n",
       "    </tr>\n",
       "  </thead>\n",
       "  <tbody>\n",
       "    <tr>\n",
       "      <td>car_ID</td>\n",
       "      <td>205.0</td>\n",
       "      <td>103.000000</td>\n",
       "      <td>59.322565</td>\n",
       "      <td>1.00</td>\n",
       "      <td>52.00</td>\n",
       "      <td>103.00</td>\n",
       "      <td>154.00</td>\n",
       "      <td>205.00</td>\n",
       "    </tr>\n",
       "    <tr>\n",
       "      <td>symboling</td>\n",
       "      <td>205.0</td>\n",
       "      <td>0.834146</td>\n",
       "      <td>1.245307</td>\n",
       "      <td>-2.00</td>\n",
       "      <td>0.00</td>\n",
       "      <td>1.00</td>\n",
       "      <td>2.00</td>\n",
       "      <td>3.00</td>\n",
       "    </tr>\n",
       "    <tr>\n",
       "      <td>wheelbase</td>\n",
       "      <td>205.0</td>\n",
       "      <td>98.756585</td>\n",
       "      <td>6.021776</td>\n",
       "      <td>86.60</td>\n",
       "      <td>94.50</td>\n",
       "      <td>97.00</td>\n",
       "      <td>102.40</td>\n",
       "      <td>120.90</td>\n",
       "    </tr>\n",
       "    <tr>\n",
       "      <td>carlength</td>\n",
       "      <td>205.0</td>\n",
       "      <td>174.049268</td>\n",
       "      <td>12.337289</td>\n",
       "      <td>141.10</td>\n",
       "      <td>166.30</td>\n",
       "      <td>173.20</td>\n",
       "      <td>183.10</td>\n",
       "      <td>208.10</td>\n",
       "    </tr>\n",
       "    <tr>\n",
       "      <td>carwidth</td>\n",
       "      <td>205.0</td>\n",
       "      <td>65.907805</td>\n",
       "      <td>2.145204</td>\n",
       "      <td>60.30</td>\n",
       "      <td>64.10</td>\n",
       "      <td>65.50</td>\n",
       "      <td>66.90</td>\n",
       "      <td>72.30</td>\n",
       "    </tr>\n",
       "    <tr>\n",
       "      <td>carheight</td>\n",
       "      <td>205.0</td>\n",
       "      <td>53.724878</td>\n",
       "      <td>2.443522</td>\n",
       "      <td>47.80</td>\n",
       "      <td>52.00</td>\n",
       "      <td>54.10</td>\n",
       "      <td>55.50</td>\n",
       "      <td>59.80</td>\n",
       "    </tr>\n",
       "    <tr>\n",
       "      <td>curbweight</td>\n",
       "      <td>205.0</td>\n",
       "      <td>2555.565854</td>\n",
       "      <td>520.680204</td>\n",
       "      <td>1488.00</td>\n",
       "      <td>2145.00</td>\n",
       "      <td>2414.00</td>\n",
       "      <td>2935.00</td>\n",
       "      <td>4066.00</td>\n",
       "    </tr>\n",
       "    <tr>\n",
       "      <td>enginesize</td>\n",
       "      <td>205.0</td>\n",
       "      <td>126.907317</td>\n",
       "      <td>41.642693</td>\n",
       "      <td>61.00</td>\n",
       "      <td>97.00</td>\n",
       "      <td>120.00</td>\n",
       "      <td>141.00</td>\n",
       "      <td>326.00</td>\n",
       "    </tr>\n",
       "    <tr>\n",
       "      <td>boreratio</td>\n",
       "      <td>205.0</td>\n",
       "      <td>3.329756</td>\n",
       "      <td>0.270844</td>\n",
       "      <td>2.54</td>\n",
       "      <td>3.15</td>\n",
       "      <td>3.31</td>\n",
       "      <td>3.58</td>\n",
       "      <td>3.94</td>\n",
       "    </tr>\n",
       "    <tr>\n",
       "      <td>stroke</td>\n",
       "      <td>205.0</td>\n",
       "      <td>3.255415</td>\n",
       "      <td>0.313597</td>\n",
       "      <td>2.07</td>\n",
       "      <td>3.11</td>\n",
       "      <td>3.29</td>\n",
       "      <td>3.41</td>\n",
       "      <td>4.17</td>\n",
       "    </tr>\n",
       "    <tr>\n",
       "      <td>compressionratio</td>\n",
       "      <td>205.0</td>\n",
       "      <td>10.142537</td>\n",
       "      <td>3.972040</td>\n",
       "      <td>7.00</td>\n",
       "      <td>8.60</td>\n",
       "      <td>9.00</td>\n",
       "      <td>9.40</td>\n",
       "      <td>23.00</td>\n",
       "    </tr>\n",
       "    <tr>\n",
       "      <td>horsepower</td>\n",
       "      <td>205.0</td>\n",
       "      <td>104.117073</td>\n",
       "      <td>39.544167</td>\n",
       "      <td>48.00</td>\n",
       "      <td>70.00</td>\n",
       "      <td>95.00</td>\n",
       "      <td>116.00</td>\n",
       "      <td>288.00</td>\n",
       "    </tr>\n",
       "    <tr>\n",
       "      <td>peakrpm</td>\n",
       "      <td>205.0</td>\n",
       "      <td>5125.121951</td>\n",
       "      <td>476.985643</td>\n",
       "      <td>4150.00</td>\n",
       "      <td>4800.00</td>\n",
       "      <td>5200.00</td>\n",
       "      <td>5500.00</td>\n",
       "      <td>6600.00</td>\n",
       "    </tr>\n",
       "    <tr>\n",
       "      <td>citympg</td>\n",
       "      <td>205.0</td>\n",
       "      <td>25.219512</td>\n",
       "      <td>6.542142</td>\n",
       "      <td>13.00</td>\n",
       "      <td>19.00</td>\n",
       "      <td>24.00</td>\n",
       "      <td>30.00</td>\n",
       "      <td>49.00</td>\n",
       "    </tr>\n",
       "    <tr>\n",
       "      <td>highwaympg</td>\n",
       "      <td>205.0</td>\n",
       "      <td>30.751220</td>\n",
       "      <td>6.886443</td>\n",
       "      <td>16.00</td>\n",
       "      <td>25.00</td>\n",
       "      <td>30.00</td>\n",
       "      <td>34.00</td>\n",
       "      <td>54.00</td>\n",
       "    </tr>\n",
       "    <tr>\n",
       "      <td>price</td>\n",
       "      <td>205.0</td>\n",
       "      <td>13276.710571</td>\n",
       "      <td>7988.852332</td>\n",
       "      <td>5118.00</td>\n",
       "      <td>7788.00</td>\n",
       "      <td>10295.00</td>\n",
       "      <td>16503.00</td>\n",
       "      <td>45400.00</td>\n",
       "    </tr>\n",
       "  </tbody>\n",
       "</table>\n",
       "</div>"
      ],
      "text/plain": [
       "                  count          mean          std      min      25%  \\\n",
       "car_ID            205.0    103.000000    59.322565     1.00    52.00   \n",
       "symboling         205.0      0.834146     1.245307    -2.00     0.00   \n",
       "wheelbase         205.0     98.756585     6.021776    86.60    94.50   \n",
       "carlength         205.0    174.049268    12.337289   141.10   166.30   \n",
       "carwidth          205.0     65.907805     2.145204    60.30    64.10   \n",
       "carheight         205.0     53.724878     2.443522    47.80    52.00   \n",
       "curbweight        205.0   2555.565854   520.680204  1488.00  2145.00   \n",
       "enginesize        205.0    126.907317    41.642693    61.00    97.00   \n",
       "boreratio         205.0      3.329756     0.270844     2.54     3.15   \n",
       "stroke            205.0      3.255415     0.313597     2.07     3.11   \n",
       "compressionratio  205.0     10.142537     3.972040     7.00     8.60   \n",
       "horsepower        205.0    104.117073    39.544167    48.00    70.00   \n",
       "peakrpm           205.0   5125.121951   476.985643  4150.00  4800.00   \n",
       "citympg           205.0     25.219512     6.542142    13.00    19.00   \n",
       "highwaympg        205.0     30.751220     6.886443    16.00    25.00   \n",
       "price             205.0  13276.710571  7988.852332  5118.00  7788.00   \n",
       "\n",
       "                       50%       75%       max  \n",
       "car_ID              103.00    154.00    205.00  \n",
       "symboling             1.00      2.00      3.00  \n",
       "wheelbase            97.00    102.40    120.90  \n",
       "carlength           173.20    183.10    208.10  \n",
       "carwidth             65.50     66.90     72.30  \n",
       "carheight            54.10     55.50     59.80  \n",
       "curbweight         2414.00   2935.00   4066.00  \n",
       "enginesize          120.00    141.00    326.00  \n",
       "boreratio             3.31      3.58      3.94  \n",
       "stroke                3.29      3.41      4.17  \n",
       "compressionratio      9.00      9.40     23.00  \n",
       "horsepower           95.00    116.00    288.00  \n",
       "peakrpm            5200.00   5500.00   6600.00  \n",
       "citympg              24.00     30.00     49.00  \n",
       "highwaympg           30.00     34.00     54.00  \n",
       "price             10295.00  16503.00  45400.00  "
      ]
     },
     "execution_count": 5,
     "metadata": {},
     "output_type": "execute_result"
    }
   ],
   "source": [
    "# To get the summary statistics\n",
    "car_pricing_df.describe().transpose()"
   ]
  },
  {
   "cell_type": "code",
   "execution_count": 6,
   "metadata": {},
   "outputs": [
    {
     "data": {
      "text/plain": [
       "car_ID              0.0\n",
       "symboling           0.0\n",
       "CarName             0.0\n",
       "fueltype            0.0\n",
       "aspiration          0.0\n",
       "doornumber          0.0\n",
       "carbody             0.0\n",
       "drivewheel          0.0\n",
       "enginelocation      0.0\n",
       "wheelbase           0.0\n",
       "carlength           0.0\n",
       "carwidth            0.0\n",
       "carheight           0.0\n",
       "curbweight          0.0\n",
       "enginetype          0.0\n",
       "cylindernumber      0.0\n",
       "enginesize          0.0\n",
       "fuelsystem          0.0\n",
       "boreratio           0.0\n",
       "stroke              0.0\n",
       "compressionratio    0.0\n",
       "horsepower          0.0\n",
       "peakrpm             0.0\n",
       "citympg             0.0\n",
       "highwaympg          0.0\n",
       "price               0.0\n",
       "dtype: float64"
      ]
     },
     "execution_count": 6,
     "metadata": {},
     "output_type": "execute_result"
    }
   ],
   "source": [
    "# To check the % missing values in dataset\n",
    "missing_values = round(100*(car_pricing_df.isnull().sum()/len(car_pricing_df)), 2)\n",
    "missing_values"
   ]
  },
  {
   "cell_type": "markdown",
   "metadata": {},
   "source": [
    "#####  Observed that there are no missing values in the dataset"
   ]
  },
  {
   "cell_type": "markdown",
   "metadata": {},
   "source": [
    "### Data Visualization"
   ]
  },
  {
   "cell_type": "markdown",
   "metadata": {},
   "source": [
    "#### Univariate analysis"
   ]
  },
  {
   "cell_type": "code",
   "execution_count": 7,
   "metadata": {},
   "outputs": [
    {
     "data": {
      "image/png": "[encoded data removed]",
      "text/plain": [
       "<Figure size 432x288 with 1 Axes>"
      ]
     },
     "metadata": {
      "needs_background": "light"
     },
     "output_type": "display_data"
    }
   ],
   "source": [
    "# To view the distribution plot of target variable\n",
    "sns.distplot(car_pricing_df.price)\n",
    "plt.show()"
   ]
  },
  {
   "cell_type": "markdown",
   "metadata": {},
   "source": [
    "The prices of the cars are right skewed. Majority of the cars are having less then 20K."
   ]
  },
  {
   "cell_type": "markdown",
   "metadata": {},
   "source": [
    "#### Bivariate analysis"
   ]
  },
  {
   "cell_type": "code",
   "execution_count": 8,
   "metadata": {},
   "outputs": [],
   "source": [
    "# list of numeric variables\n",
    "num_vars = ['wheelbase', 'carlength', 'carwidth', 'carheight', 'curbweight', 'enginesize', 'boreratio', \\\n",
    "            'stroke', 'compressionratio', 'horsepower', 'peakrpm', 'citympg', 'highwaympg', 'price']"
   ]
  },
  {
   "cell_type": "code",
   "execution_count": 9,
   "metadata": {},
   "outputs": [
    {
     "data": {
      "image/png": "[encoded data removed]",
      "text/plain": [
       "<Figure size 1080x576 with 2 Axes>"
      ]
     },
     "metadata": {
      "needs_background": "light"
     },
     "output_type": "display_data"
    }
   ],
   "source": [
    "# To plot the numerical variables\n",
    "fig, ax = plt.subplots(figsize=(15, 8))\n",
    "corr = car_pricing_df[num_vars].corr()\n",
    "sns.heatmap(corr, \n",
    "            xticklabels=corr.columns.values,\n",
    "            yticklabels=corr.columns.values, ax=ax, cmap=\"YlGnBu\", annot=True)\n",
    "bottom, top = plt.ylim()\n",
    "bottom += 0.5 \n",
    "top -= 0.5 \n",
    "plt.ylim(bottom, top) \n",
    "plt.show()"
   ]
  },
  {
   "cell_type": "markdown",
   "metadata": {},
   "source": [
    "Observations:\n",
    "    1. Price is having high positive correlation with enginesize, curbweight, horsepower, carwidth.\n",
    "    2. Price is having negative correlation with highwaympg and citympg."
   ]
  },
  {
   "cell_type": "code",
   "execution_count": 10,
   "metadata": {},
   "outputs": [
    {
     "data": {
      "image/png": "[encoded data removed]",
      "text/plain": [
       "<Figure size 1296x1584 with 10 Axes>"
      ]
     },
     "metadata": {
      "needs_background": "light"
     },
     "output_type": "display_data"
    }
   ],
   "source": [
    "# To visualise the categorical variables. \n",
    "plt.figure(figsize=(18, 22))\n",
    "plt.subplot(5,2,1)\n",
    "sns.boxplot(x = 'fueltype', y = 'price', data = car_pricing_df)\n",
    "plt.subplot(5,2,2)\n",
    "sns.boxplot(x = 'aspiration', y = 'price', data = car_pricing_df)\n",
    "plt.subplot(5,2,3)\n",
    "sns.boxplot(x = 'doornumber', y = 'price', data = car_pricing_df)\n",
    "plt.subplot(5,2,4)\n",
    "sns.boxplot(x = 'carbody', y = 'price', data = car_pricing_df)\n",
    "plt.subplot(5,2,5)\n",
    "sns.boxplot(x = 'drivewheel', y = 'price', data = car_pricing_df)\n",
    "plt.subplot(5,2,6)\n",
    "sns.boxplot(x = 'enginelocation', y = 'price', data = car_pricing_df)\n",
    "plt.subplot(5,2,7)\n",
    "sns.boxplot(x = 'enginetype', y = 'price', data = car_pricing_df)\n",
    "plt.subplot(5,2,8)\n",
    "sns.boxplot(x = 'cylindernumber', y = 'price', data = car_pricing_df)\n",
    "plt.subplot(5,2,9)\n",
    "sns.boxplot(x = 'fuelsystem', y = 'price', data = car_pricing_df)\n",
    "plt.subplot(5,2,10)\n",
    "sns.boxplot(x = 'symboling', y = 'price', data = car_pricing_df)\n",
    "plt.show()"
   ]
  },
  {
   "cell_type": "markdown",
   "metadata": {},
   "source": [
    "Observations:\n",
    "    1. The average price of diesel cars is more than gas fuel type.\n",
    "    2. The average price of cars with aspiration turbo is more than std.\n",
    "    3. There is very little variation in price with cars having door 2 and 4.\n",
    "    4. The average price of cars with carbody hardtop and convertible are having high which is above 15K.\n",
    "    5. The average price of cars with drivewheel rwd are high.\n",
    "    6. There are very less number of cars with engine location rear and the average price is high.\n",
    "    7. The average price of ohcv and dohcv are high. We can't get much insights on dohcv as there are very minimal records.\n",
    "    8. The average price of cars with cylindernumber 8 and 12 are high. We can't get much insights on twelve as there are very minimal records.\n",
    "    9. The average price of cars with fuelsystem mpfi and idi are high.\n",
    "    10. The average price of cars with symboling -1, -2 and 3 are high."
   ]
  },
  {
   "cell_type": "markdown",
   "metadata": {},
   "source": [
    "### Data Preparation"
   ]
  },
  {
   "cell_type": "code",
   "execution_count": 11,
   "metadata": {},
   "outputs": [],
   "source": [
    "# To extract company name from the column CarName\n",
    "car_pricing_df['CarCompanyName'] = car_pricing_df['CarName'].str.split().str.get(0)"
   ]
  },
  {
   "cell_type": "code",
   "execution_count": 12,
   "metadata": {},
   "outputs": [
    {
     "data": {
      "text/plain": [
       "28"
      ]
     },
     "execution_count": 12,
     "metadata": {},
     "output_type": "execute_result"
    }
   ],
   "source": [
    "# To check the count of unique values after replace\n",
    "len(car_pricing_df.CarCompanyName.unique())"
   ]
  },
  {
   "cell_type": "code",
   "execution_count": 13,
   "metadata": {},
   "outputs": [
    {
     "data": {
      "text/plain": [
       "array(['alfa-romero', 'audi', 'bmw', 'chevrolet', 'dodge', 'honda',\n",
       "       'isuzu', 'jaguar', 'maxda', 'mazda', 'buick', 'mercury',\n",
       "       'mitsubishi', 'Nissan', 'nissan', 'peugeot', 'plymouth', 'porsche',\n",
       "       'porcshce', 'renault', 'saab', 'subaru', 'toyota', 'toyouta',\n",
       "       'vokswagen', 'volkswagen', 'vw', 'volvo'], dtype=object)"
      ]
     },
     "execution_count": 13,
     "metadata": {},
     "output_type": "execute_result"
    }
   ],
   "source": [
    "# To list the unique carcompanyname values\n",
    "car_pricing_df.CarCompanyName.unique()"
   ]
  },
  {
   "cell_type": "markdown",
   "metadata": {},
   "source": [
    "#### Could observe there are few car company names having misspelled. Causing 2 different entries. \n",
    "#### Like Nissan vs nissan, porsche vs porcshce, ....\n",
    "#### We need to replace the actual value with misspelled."
   ]
  },
  {
   "cell_type": "code",
   "execution_count": 14,
   "metadata": {},
   "outputs": [],
   "source": [
    "# To replace actual values with misspelled \n",
    "car_pricing_df = car_pricing_df.replace({'CarCompanyName': {'maxda':'mazda', 'Nissan':'nissan', \\\n",
    "                         'vw':'volkswagen', 'vokswagen':'volkswagen', 'porcshce':'porsche', 'toyouta':'toyota'}})"
   ]
  },
  {
   "cell_type": "code",
   "execution_count": 15,
   "metadata": {},
   "outputs": [
    {
     "data": {
      "text/plain": [
       "22"
      ]
     },
     "execution_count": 15,
     "metadata": {},
     "output_type": "execute_result"
    }
   ],
   "source": [
    "# To check the count of unique values after replace\n",
    "len(car_pricing_df.CarCompanyName.unique())"
   ]
  },
  {
   "cell_type": "code",
   "execution_count": 16,
   "metadata": {},
   "outputs": [
    {
     "data": {
      "text/plain": [
       "array(['alfa-romero', 'audi', 'bmw', 'chevrolet', 'dodge', 'honda',\n",
       "       'isuzu', 'jaguar', 'mazda', 'buick', 'mercury', 'mitsubishi',\n",
       "       'nissan', 'peugeot', 'plymouth', 'porsche', 'renault', 'saab',\n",
       "       'subaru', 'toyota', 'volkswagen', 'volvo'], dtype=object)"
      ]
     },
     "execution_count": 16,
     "metadata": {},
     "output_type": "execute_result"
    }
   ],
   "source": [
    "# To list the unique carcompanyname values\n",
    "car_pricing_df.CarCompanyName.unique()"
   ]
  },
  {
   "cell_type": "markdown",
   "metadata": {},
   "source": [
    "We can now drop the CarName column which is not required in our analysis."
   ]
  },
  {
   "cell_type": "code",
   "execution_count": 17,
   "metadata": {},
   "outputs": [],
   "source": [
    "# To drop the CarName column\n",
    "car_pricing_df.drop('CarName',axis=1,inplace=True)"
   ]
  },
  {
   "cell_type": "markdown",
   "metadata": {},
   "source": [
    "#### Dummy Variables"
   ]
  },
  {
   "cell_type": "markdown",
   "metadata": {},
   "source": [
    "The derived variable CarCompanyName has 22 unique values. We can create 21 dummy variables from this."
   ]
  },
  {
   "cell_type": "code",
   "execution_count": 18,
   "metadata": {},
   "outputs": [],
   "source": [
    "# To create dummy variables and drop the first column from Carcompany df using 'drop_first = True'\n",
    "Carcompany_df = pd.get_dummies(car_pricing_df['CarCompanyName'], drop_first = True)\n",
    "\n",
    "# Add the results to the original car_pricing_df dataframe\n",
    "car_pricing_df = pd.concat([car_pricing_df, Carcompany_df], axis = 1)"
   ]
  },
  {
   "cell_type": "markdown",
   "metadata": {},
   "source": [
    "To create dummy variables from categorical features"
   ]
  },
  {
   "cell_type": "code",
   "execution_count": 19,
   "metadata": {},
   "outputs": [],
   "source": [
    "# To create dummy variables and drop the first column from carbody df using 'drop_first = True'\n",
    "carbody_df = pd.get_dummies(car_pricing_df['carbody'], drop_first = True)\n",
    "\n",
    "# Add the results to the original car_pricing_df dataframe\n",
    "car_pricing_df = pd.concat([car_pricing_df, carbody_df], axis = 1)"
   ]
  },
  {
   "cell_type": "code",
   "execution_count": 20,
   "metadata": {},
   "outputs": [],
   "source": [
    "# To create dummy variables and drop the first column from drivewheel df using 'drop_first = True'\n",
    "drivewheel_df = pd.get_dummies(car_pricing_df['drivewheel'], drop_first = True)\n",
    "\n",
    "# Add the results to the original car_pricing_df dataframe\n",
    "car_pricing_df = pd.concat([car_pricing_df, drivewheel_df], axis = 1)"
   ]
  },
  {
   "cell_type": "code",
   "execution_count": 21,
   "metadata": {},
   "outputs": [],
   "source": [
    "# To create dummy variables and drop the first column from fuelsystem df using 'drop_first = True'\n",
    "fuelsystem_df = pd.get_dummies(car_pricing_df['fuelsystem'], drop_first = True)\n",
    "\n",
    "# Add the results to the original car_pricing_df dataframe\n",
    "car_pricing_df = pd.concat([car_pricing_df, fuelsystem_df], axis = 1)"
   ]
  },
  {
   "cell_type": "code",
   "execution_count": 22,
   "metadata": {},
   "outputs": [],
   "source": [
    "# To create dummy variables and drop the first column from enginetype df using 'drop_first = True'\n",
    "enginetype_df = pd.get_dummies(car_pricing_df['enginetype'], drop_first = True)\n",
    "\n",
    "# Add the results to the original car_pricing_df dataframe\n",
    "car_pricing_df = pd.concat([car_pricing_df, enginetype_df], axis = 1)"
   ]
  },
  {
   "cell_type": "code",
   "execution_count": 23,
   "metadata": {},
   "outputs": [
    {
     "data": {
      "text/html": [
       "<div>\n",
       "<style scoped>\n",
       "    .dataframe tbody tr th:only-of-type {\n",
       "        vertical-align: middle;\n",
       "    }\n",
       "\n",
       "    .dataframe tbody tr th {\n",
       "        vertical-align: top;\n",
       "    }\n",
       "\n",
       "    .dataframe thead th {\n",
       "        text-align: right;\n",
       "    }\n",
       "</style>\n",
       "<table border=\"1\" class=\"dataframe\">\n",
       "  <thead>\n",
       "    <tr style=\"text-align: right;\">\n",
       "      <th></th>\n",
       "      <th>car_ID</th>\n",
       "      <th>symboling</th>\n",
       "      <th>fueltype</th>\n",
       "      <th>aspiration</th>\n",
       "      <th>doornumber</th>\n",
       "      <th>carbody</th>\n",
       "      <th>drivewheel</th>\n",
       "      <th>enginelocation</th>\n",
       "      <th>wheelbase</th>\n",
       "      <th>carlength</th>\n",
       "      <th>...</th>\n",
       "      <th>mfi</th>\n",
       "      <th>mpfi</th>\n",
       "      <th>spdi</th>\n",
       "      <th>spfi</th>\n",
       "      <th>dohcv</th>\n",
       "      <th>l</th>\n",
       "      <th>ohc</th>\n",
       "      <th>ohcf</th>\n",
       "      <th>ohcv</th>\n",
       "      <th>rotor</th>\n",
       "    </tr>\n",
       "  </thead>\n",
       "  <tbody>\n",
       "    <tr>\n",
       "      <td>0</td>\n",
       "      <td>1</td>\n",
       "      <td>3</td>\n",
       "      <td>gas</td>\n",
       "      <td>std</td>\n",
       "      <td>two</td>\n",
       "      <td>convertible</td>\n",
       "      <td>rwd</td>\n",
       "      <td>front</td>\n",
       "      <td>88.6</td>\n",
       "      <td>168.8</td>\n",
       "      <td>...</td>\n",
       "      <td>0</td>\n",
       "      <td>1</td>\n",
       "      <td>0</td>\n",
       "      <td>0</td>\n",
       "      <td>0</td>\n",
       "      <td>0</td>\n",
       "      <td>0</td>\n",
       "      <td>0</td>\n",
       "      <td>0</td>\n",
       "      <td>0</td>\n",
       "    </tr>\n",
       "    <tr>\n",
       "      <td>1</td>\n",
       "      <td>2</td>\n",
       "      <td>3</td>\n",
       "      <td>gas</td>\n",
       "      <td>std</td>\n",
       "      <td>two</td>\n",
       "      <td>convertible</td>\n",
       "      <td>rwd</td>\n",
       "      <td>front</td>\n",
       "      <td>88.6</td>\n",
       "      <td>168.8</td>\n",
       "      <td>...</td>\n",
       "      <td>0</td>\n",
       "      <td>1</td>\n",
       "      <td>0</td>\n",
       "      <td>0</td>\n",
       "      <td>0</td>\n",
       "      <td>0</td>\n",
       "      <td>0</td>\n",
       "      <td>0</td>\n",
       "      <td>0</td>\n",
       "      <td>0</td>\n",
       "    </tr>\n",
       "    <tr>\n",
       "      <td>2</td>\n",
       "      <td>3</td>\n",
       "      <td>1</td>\n",
       "      <td>gas</td>\n",
       "      <td>std</td>\n",
       "      <td>two</td>\n",
       "      <td>hatchback</td>\n",
       "      <td>rwd</td>\n",
       "      <td>front</td>\n",
       "      <td>94.5</td>\n",
       "      <td>171.2</td>\n",
       "      <td>...</td>\n",
       "      <td>0</td>\n",
       "      <td>1</td>\n",
       "      <td>0</td>\n",
       "      <td>0</td>\n",
       "      <td>0</td>\n",
       "      <td>0</td>\n",
       "      <td>0</td>\n",
       "      <td>0</td>\n",
       "      <td>1</td>\n",
       "      <td>0</td>\n",
       "    </tr>\n",
       "    <tr>\n",
       "      <td>3</td>\n",
       "      <td>4</td>\n",
       "      <td>2</td>\n",
       "      <td>gas</td>\n",
       "      <td>std</td>\n",
       "      <td>four</td>\n",
       "      <td>sedan</td>\n",
       "      <td>fwd</td>\n",
       "      <td>front</td>\n",
       "      <td>99.8</td>\n",
       "      <td>176.6</td>\n",
       "      <td>...</td>\n",
       "      <td>0</td>\n",
       "      <td>1</td>\n",
       "      <td>0</td>\n",
       "      <td>0</td>\n",
       "      <td>0</td>\n",
       "      <td>0</td>\n",
       "      <td>1</td>\n",
       "      <td>0</td>\n",
       "      <td>0</td>\n",
       "      <td>0</td>\n",
       "    </tr>\n",
       "    <tr>\n",
       "      <td>4</td>\n",
       "      <td>5</td>\n",
       "      <td>2</td>\n",
       "      <td>gas</td>\n",
       "      <td>std</td>\n",
       "      <td>four</td>\n",
       "      <td>sedan</td>\n",
       "      <td>4wd</td>\n",
       "      <td>front</td>\n",
       "      <td>99.4</td>\n",
       "      <td>176.6</td>\n",
       "      <td>...</td>\n",
       "      <td>0</td>\n",
       "      <td>1</td>\n",
       "      <td>0</td>\n",
       "      <td>0</td>\n",
       "      <td>0</td>\n",
       "      <td>0</td>\n",
       "      <td>1</td>\n",
       "      <td>0</td>\n",
       "      <td>0</td>\n",
       "      <td>0</td>\n",
       "    </tr>\n",
       "  </tbody>\n",
       "</table>\n",
       "<p>5 rows × 66 columns</p>\n",
       "</div>"
      ],
      "text/plain": [
       "   car_ID  symboling fueltype aspiration doornumber      carbody drivewheel  \\\n",
       "0       1          3      gas        std        two  convertible        rwd   \n",
       "1       2          3      gas        std        two  convertible        rwd   \n",
       "2       3          1      gas        std        two    hatchback        rwd   \n",
       "3       4          2      gas        std       four        sedan        fwd   \n",
       "4       5          2      gas        std       four        sedan        4wd   \n",
       "\n",
       "  enginelocation  wheelbase  carlength  ...  mfi  mpfi  spdi spfi dohcv  l  \\\n",
       "0          front       88.6      168.8  ...    0     1     0    0     0  0   \n",
       "1          front       88.6      168.8  ...    0     1     0    0     0  0   \n",
       "2          front       94.5      171.2  ...    0     1     0    0     0  0   \n",
       "3          front       99.8      176.6  ...    0     1     0    0     0  0   \n",
       "4          front       99.4      176.6  ...    0     1     0    0     0  0   \n",
       "\n",
       "  ohc  ohcf  ohcv  rotor  \n",
       "0   0     0     0      0  \n",
       "1   0     0     0      0  \n",
       "2   0     0     1      0  \n",
       "3   1     0     0      0  \n",
       "4   1     0     0      0  \n",
       "\n",
       "[5 rows x 66 columns]"
      ]
     },
     "execution_count": 23,
     "metadata": {},
     "output_type": "execute_result"
    }
   ],
   "source": [
    "# Now let's see the head of our dataframe.\n",
    "car_pricing_df.head()"
   ]
  },
  {
   "cell_type": "code",
   "execution_count": 24,
   "metadata": {},
   "outputs": [],
   "source": [
    "# To drop the original columns after creating dummy variables\n",
    "car_pricing_df.drop('CarCompanyName',axis=1,inplace=True)\n",
    "car_pricing_df.drop('carbody',axis=1,inplace=True)\n",
    "car_pricing_df.drop('drivewheel',axis=1,inplace=True)\n",
    "car_pricing_df.drop('enginetype',axis=1,inplace=True)\n",
    "car_pricing_df.drop('fuelsystem',axis=1,inplace=True)"
   ]
  },
  {
   "cell_type": "markdown",
   "metadata": {},
   "source": [
    "#### Label encoding"
   ]
  },
  {
   "cell_type": "markdown",
   "metadata": {},
   "source": [
    "There are 4 columns having 2 unique values for which the label encoding can be performed."
   ]
  },
  {
   "cell_type": "code",
   "execution_count": 25,
   "metadata": {},
   "outputs": [],
   "source": [
    "# To perform label encoding and create new columns to represent the values\n",
    "car_pricing_df['fueltype_gas'] = car_pricing_df['fueltype'].map({'gas':1, 'diesel':0})\n",
    "car_pricing_df['aspiration_std'] = car_pricing_df['aspiration'].map({'std':1, 'turbo':0})\n",
    "car_pricing_df['doornumber_two'] = car_pricing_df['doornumber'].map({'two':1, 'four':0})\n",
    "car_pricing_df['enginelocation_front'] = car_pricing_df['enginelocation'].map({'front':1, 'rear':0})"
   ]
  },
  {
   "cell_type": "code",
   "execution_count": 26,
   "metadata": {},
   "outputs": [],
   "source": [
    "# To drop the old columns before label encoding\n",
    "car_pricing_df.drop('fueltype',axis=1,inplace=True)\n",
    "car_pricing_df.drop('aspiration',axis=1,inplace=True)\n",
    "car_pricing_df.drop('doornumber',axis=1,inplace=True)\n",
    "car_pricing_df.drop('enginelocation',axis=1,inplace=True)"
   ]
  },
  {
   "cell_type": "code",
   "execution_count": 27,
   "metadata": {},
   "outputs": [],
   "source": [
    "# To drop the car_ID as it contains unique id of each observation\n",
    "car_pricing_df.drop('car_ID',axis=1,inplace=True)"
   ]
  },
  {
   "cell_type": "code",
   "execution_count": 28,
   "metadata": {},
   "outputs": [
    {
     "data": {
      "text/plain": [
       "array(['four', 'six', 'five', 'three', 'twelve', 'two', 'eight'],\n",
       "      dtype=object)"
      ]
     },
     "execution_count": 28,
     "metadata": {},
     "output_type": "execute_result"
    }
   ],
   "source": [
    "car_pricing_df.cylindernumber.unique()"
   ]
  },
  {
   "cell_type": "code",
   "execution_count": 29,
   "metadata": {},
   "outputs": [],
   "source": [
    "# To perform label encoding on cylindernumber column having multiple unique values\n",
    "cylinder_dict = {'four':4, 'six':6, 'five':5, 'three':3, 'twelve':12, 'two':2, 'eight':8}\n",
    "car_pricing_df['cylindernumber'] = car_pricing_df['cylindernumber'].map(cylinder_dict)"
   ]
  },
  {
   "cell_type": "code",
   "execution_count": 30,
   "metadata": {},
   "outputs": [
    {
     "data": {
      "text/html": [
       "<div>\n",
       "<style scoped>\n",
       "    .dataframe tbody tr th:only-of-type {\n",
       "        vertical-align: middle;\n",
       "    }\n",
       "\n",
       "    .dataframe tbody tr th {\n",
       "        vertical-align: top;\n",
       "    }\n",
       "\n",
       "    .dataframe thead th {\n",
       "        text-align: right;\n",
       "    }\n",
       "</style>\n",
       "<table border=\"1\" class=\"dataframe\">\n",
       "  <thead>\n",
       "    <tr style=\"text-align: right;\">\n",
       "      <th></th>\n",
       "      <th>symboling</th>\n",
       "      <th>wheelbase</th>\n",
       "      <th>carlength</th>\n",
       "      <th>carwidth</th>\n",
       "      <th>carheight</th>\n",
       "      <th>curbweight</th>\n",
       "      <th>cylindernumber</th>\n",
       "      <th>enginesize</th>\n",
       "      <th>boreratio</th>\n",
       "      <th>stroke</th>\n",
       "      <th>...</th>\n",
       "      <th>dohcv</th>\n",
       "      <th>l</th>\n",
       "      <th>ohc</th>\n",
       "      <th>ohcf</th>\n",
       "      <th>ohcv</th>\n",
       "      <th>rotor</th>\n",
       "      <th>fueltype_gas</th>\n",
       "      <th>aspiration_std</th>\n",
       "      <th>doornumber_two</th>\n",
       "      <th>enginelocation_front</th>\n",
       "    </tr>\n",
       "  </thead>\n",
       "  <tbody>\n",
       "    <tr>\n",
       "      <td>0</td>\n",
       "      <td>3</td>\n",
       "      <td>88.6</td>\n",
       "      <td>168.8</td>\n",
       "      <td>64.1</td>\n",
       "      <td>48.8</td>\n",
       "      <td>2548</td>\n",
       "      <td>4</td>\n",
       "      <td>130</td>\n",
       "      <td>3.47</td>\n",
       "      <td>2.68</td>\n",
       "      <td>...</td>\n",
       "      <td>0</td>\n",
       "      <td>0</td>\n",
       "      <td>0</td>\n",
       "      <td>0</td>\n",
       "      <td>0</td>\n",
       "      <td>0</td>\n",
       "      <td>1</td>\n",
       "      <td>1</td>\n",
       "      <td>1</td>\n",
       "      <td>1</td>\n",
       "    </tr>\n",
       "    <tr>\n",
       "      <td>1</td>\n",
       "      <td>3</td>\n",
       "      <td>88.6</td>\n",
       "      <td>168.8</td>\n",
       "      <td>64.1</td>\n",
       "      <td>48.8</td>\n",
       "      <td>2548</td>\n",
       "      <td>4</td>\n",
       "      <td>130</td>\n",
       "      <td>3.47</td>\n",
       "      <td>2.68</td>\n",
       "      <td>...</td>\n",
       "      <td>0</td>\n",
       "      <td>0</td>\n",
       "      <td>0</td>\n",
       "      <td>0</td>\n",
       "      <td>0</td>\n",
       "      <td>0</td>\n",
       "      <td>1</td>\n",
       "      <td>1</td>\n",
       "      <td>1</td>\n",
       "      <td>1</td>\n",
       "    </tr>\n",
       "    <tr>\n",
       "      <td>2</td>\n",
       "      <td>1</td>\n",
       "      <td>94.5</td>\n",
       "      <td>171.2</td>\n",
       "      <td>65.5</td>\n",
       "      <td>52.4</td>\n",
       "      <td>2823</td>\n",
       "      <td>6</td>\n",
       "      <td>152</td>\n",
       "      <td>2.68</td>\n",
       "      <td>3.47</td>\n",
       "      <td>...</td>\n",
       "      <td>0</td>\n",
       "      <td>0</td>\n",
       "      <td>0</td>\n",
       "      <td>0</td>\n",
       "      <td>1</td>\n",
       "      <td>0</td>\n",
       "      <td>1</td>\n",
       "      <td>1</td>\n",
       "      <td>1</td>\n",
       "      <td>1</td>\n",
       "    </tr>\n",
       "    <tr>\n",
       "      <td>3</td>\n",
       "      <td>2</td>\n",
       "      <td>99.8</td>\n",
       "      <td>176.6</td>\n",
       "      <td>66.2</td>\n",
       "      <td>54.3</td>\n",
       "      <td>2337</td>\n",
       "      <td>4</td>\n",
       "      <td>109</td>\n",
       "      <td>3.19</td>\n",
       "      <td>3.40</td>\n",
       "      <td>...</td>\n",
       "      <td>0</td>\n",
       "      <td>0</td>\n",
       "      <td>1</td>\n",
       "      <td>0</td>\n",
       "      <td>0</td>\n",
       "      <td>0</td>\n",
       "      <td>1</td>\n",
       "      <td>1</td>\n",
       "      <td>0</td>\n",
       "      <td>1</td>\n",
       "    </tr>\n",
       "    <tr>\n",
       "      <td>4</td>\n",
       "      <td>2</td>\n",
       "      <td>99.4</td>\n",
       "      <td>176.6</td>\n",
       "      <td>66.4</td>\n",
       "      <td>54.3</td>\n",
       "      <td>2824</td>\n",
       "      <td>5</td>\n",
       "      <td>136</td>\n",
       "      <td>3.19</td>\n",
       "      <td>3.40</td>\n",
       "      <td>...</td>\n",
       "      <td>0</td>\n",
       "      <td>0</td>\n",
       "      <td>1</td>\n",
       "      <td>0</td>\n",
       "      <td>0</td>\n",
       "      <td>0</td>\n",
       "      <td>1</td>\n",
       "      <td>1</td>\n",
       "      <td>0</td>\n",
       "      <td>1</td>\n",
       "    </tr>\n",
       "  </tbody>\n",
       "</table>\n",
       "<p>5 rows × 60 columns</p>\n",
       "</div>"
      ],
      "text/plain": [
       "   symboling  wheelbase  carlength  carwidth  carheight  curbweight  \\\n",
       "0          3       88.6      168.8      64.1       48.8        2548   \n",
       "1          3       88.6      168.8      64.1       48.8        2548   \n",
       "2          1       94.5      171.2      65.5       52.4        2823   \n",
       "3          2       99.8      176.6      66.2       54.3        2337   \n",
       "4          2       99.4      176.6      66.4       54.3        2824   \n",
       "\n",
       "   cylindernumber  enginesize  boreratio  stroke  ...  dohcv  l  ohc  ohcf  \\\n",
       "0               4         130       3.47    2.68  ...      0  0    0     0   \n",
       "1               4         130       3.47    2.68  ...      0  0    0     0   \n",
       "2               6         152       2.68    3.47  ...      0  0    0     0   \n",
       "3               4         109       3.19    3.40  ...      0  0    1     0   \n",
       "4               5         136       3.19    3.40  ...      0  0    1     0   \n",
       "\n",
       "   ohcv  rotor  fueltype_gas  aspiration_std  doornumber_two  \\\n",
       "0     0      0             1               1               1   \n",
       "1     0      0             1               1               1   \n",
       "2     1      0             1               1               1   \n",
       "3     0      0             1               1               0   \n",
       "4     0      0             1               1               0   \n",
       "\n",
       "   enginelocation_front  \n",
       "0                     1  \n",
       "1                     1  \n",
       "2                     1  \n",
       "3                     1  \n",
       "4                     1  \n",
       "\n",
       "[5 rows x 60 columns]"
      ]
     },
     "execution_count": 30,
     "metadata": {},
     "output_type": "execute_result"
    }
   ],
   "source": [
    "car_pricing_df.head()"
   ]
  },
  {
   "cell_type": "code",
   "execution_count": 31,
   "metadata": {},
   "outputs": [
    {
     "data": {
      "text/html": [
       "<div>\n",
       "<style scoped>\n",
       "    .dataframe tbody tr th:only-of-type {\n",
       "        vertical-align: middle;\n",
       "    }\n",
       "\n",
       "    .dataframe tbody tr th {\n",
       "        vertical-align: top;\n",
       "    }\n",
       "\n",
       "    .dataframe thead th {\n",
       "        text-align: right;\n",
       "    }\n",
       "</style>\n",
       "<table border=\"1\" class=\"dataframe\">\n",
       "  <thead>\n",
       "    <tr style=\"text-align: right;\">\n",
       "      <th></th>\n",
       "      <th>symboling</th>\n",
       "      <th>wheelbase</th>\n",
       "      <th>carlength</th>\n",
       "      <th>carwidth</th>\n",
       "      <th>carheight</th>\n",
       "      <th>curbweight</th>\n",
       "      <th>cylindernumber</th>\n",
       "      <th>enginesize</th>\n",
       "      <th>boreratio</th>\n",
       "      <th>stroke</th>\n",
       "      <th>...</th>\n",
       "      <th>dohcv</th>\n",
       "      <th>l</th>\n",
       "      <th>ohc</th>\n",
       "      <th>ohcf</th>\n",
       "      <th>ohcv</th>\n",
       "      <th>rotor</th>\n",
       "      <th>fueltype_gas</th>\n",
       "      <th>aspiration_std</th>\n",
       "      <th>doornumber_two</th>\n",
       "      <th>enginelocation_front</th>\n",
       "    </tr>\n",
       "  </thead>\n",
       "  <tbody>\n",
       "  </tbody>\n",
       "</table>\n",
       "<p>0 rows × 60 columns</p>\n",
       "</div>"
      ],
      "text/plain": [
       "Empty DataFrame\n",
       "Columns: [symboling, wheelbase, carlength, carwidth, carheight, curbweight, cylindernumber, enginesize, boreratio, stroke, compressionratio, horsepower, peakrpm, citympg, highwaympg, price, audi, bmw, buick, chevrolet, dodge, honda, isuzu, jaguar, mazda, mercury, mitsubishi, nissan, peugeot, plymouth, porsche, renault, saab, subaru, toyota, volkswagen, volvo, hardtop, hatchback, sedan, wagon, fwd, rwd, 2bbl, 4bbl, idi, mfi, mpfi, spdi, spfi, dohcv, l, ohc, ohcf, ohcv, rotor, fueltype_gas, aspiration_std, doornumber_two, enginelocation_front]\n",
       "Index: []\n",
       "\n",
       "[0 rows x 60 columns]"
      ]
     },
     "execution_count": 31,
     "metadata": {},
     "output_type": "execute_result"
    }
   ],
   "source": [
    "# To check for duplicate records\n",
    "car_pricing_df.loc[car_pricing_df.duplicated()]"
   ]
  },
  {
   "cell_type": "markdown",
   "metadata": {},
   "source": [
    "Observation is that there are no duplicate records."
   ]
  },
  {
   "cell_type": "markdown",
   "metadata": {},
   "source": [
    "#### Derived variables"
   ]
  },
  {
   "cell_type": "code",
   "execution_count": 32,
   "metadata": {},
   "outputs": [],
   "source": [
    "# The price of the cars can be binned.\n",
    "bins = [5000, 10000, 20000, 46000]\n",
    "car_labels = ['Low', 'Medium', 'High']\n",
    "car_pricing_df['car_range'] = pd.cut(car_pricing_df['price'], bins=bins, right=False, labels=car_labels)"
   ]
  },
  {
   "cell_type": "code",
   "execution_count": 33,
   "metadata": {},
   "outputs": [],
   "source": [
    "# To create dummy variables and drop the first column from enginetype df using 'drop_first = True'\n",
    "car_range_df = pd.get_dummies(car_pricing_df['car_range'], drop_first = True)\n",
    "\n",
    "# Add the results to the original car_pricing_df dataframe\n",
    "car_pricing_df = pd.concat([car_pricing_df, car_range_df], axis = 1)\n",
    "car_pricing_df.drop('car_range',axis=1,inplace=True)"
   ]
  },
  {
   "cell_type": "markdown",
   "metadata": {},
   "source": [
    "### Model building"
   ]
  },
  {
   "cell_type": "markdown",
   "metadata": {},
   "source": [
    "#### Split the data into train and test set"
   ]
  },
  {
   "cell_type": "code",
   "execution_count": 34,
   "metadata": {},
   "outputs": [],
   "source": [
    "# To split the data into train and test set, having random state set to a value to get same set of data every time we run.\n",
    "\n",
    "df_train, df_test = train_test_split(car_pricing_df, train_size = 0.8, test_size = 0.2, random_state = 100)"
   ]
  },
  {
   "cell_type": "markdown",
   "metadata": {},
   "source": [
    "#### Rescaling features"
   ]
  },
  {
   "cell_type": "code",
   "execution_count": 35,
   "metadata": {},
   "outputs": [],
   "source": [
    "# To normalize the train set using minmax scaling technique\n",
    "scaler = MinMaxScaler()"
   ]
  },
  {
   "cell_type": "code",
   "execution_count": 36,
   "metadata": {},
   "outputs": [],
   "source": [
    "num_vars_p = ['wheelbase', 'carlength', 'carwidth', 'carheight', 'curbweight', 'enginesize', 'boreratio', \\\n",
    "            'stroke', 'compressionratio', 'horsepower', 'peakrpm', 'citympg', 'highwaympg']"
   ]
  },
  {
   "cell_type": "code",
   "execution_count": 37,
   "metadata": {},
   "outputs": [
    {
     "data": {
      "text/html": [
       "<div>\n",
       "<style scoped>\n",
       "    .dataframe tbody tr th:only-of-type {\n",
       "        vertical-align: middle;\n",
       "    }\n",
       "\n",
       "    .dataframe tbody tr th {\n",
       "        vertical-align: top;\n",
       "    }\n",
       "\n",
       "    .dataframe thead th {\n",
       "        text-align: right;\n",
       "    }\n",
       "</style>\n",
       "<table border=\"1\" class=\"dataframe\">\n",
       "  <thead>\n",
       "    <tr style=\"text-align: right;\">\n",
       "      <th></th>\n",
       "      <th>symboling</th>\n",
       "      <th>wheelbase</th>\n",
       "      <th>carlength</th>\n",
       "      <th>carwidth</th>\n",
       "      <th>carheight</th>\n",
       "      <th>curbweight</th>\n",
       "      <th>cylindernumber</th>\n",
       "      <th>enginesize</th>\n",
       "      <th>boreratio</th>\n",
       "      <th>stroke</th>\n",
       "      <th>...</th>\n",
       "      <th>ohc</th>\n",
       "      <th>ohcf</th>\n",
       "      <th>ohcv</th>\n",
       "      <th>rotor</th>\n",
       "      <th>fueltype_gas</th>\n",
       "      <th>aspiration_std</th>\n",
       "      <th>doornumber_two</th>\n",
       "      <th>enginelocation_front</th>\n",
       "      <th>Medium</th>\n",
       "      <th>High</th>\n",
       "    </tr>\n",
       "  </thead>\n",
       "  <tbody>\n",
       "    <tr>\n",
       "      <td>3</td>\n",
       "      <td>2</td>\n",
       "      <td>0.455172</td>\n",
       "      <td>0.577236</td>\n",
       "      <td>0.491667</td>\n",
       "      <td>0.541667</td>\n",
       "      <td>0.329325</td>\n",
       "      <td>4</td>\n",
       "      <td>0.181132</td>\n",
       "      <td>0.404762</td>\n",
       "      <td>0.611111</td>\n",
       "      <td>...</td>\n",
       "      <td>1</td>\n",
       "      <td>0</td>\n",
       "      <td>0</td>\n",
       "      <td>0</td>\n",
       "      <td>1</td>\n",
       "      <td>1</td>\n",
       "      <td>0</td>\n",
       "      <td>1</td>\n",
       "      <td>1</td>\n",
       "      <td>0</td>\n",
       "    </tr>\n",
       "    <tr>\n",
       "      <td>157</td>\n",
       "      <td>0</td>\n",
       "      <td>0.313793</td>\n",
       "      <td>0.409756</td>\n",
       "      <td>0.341667</td>\n",
       "      <td>0.416667</td>\n",
       "      <td>0.240884</td>\n",
       "      <td>4</td>\n",
       "      <td>0.139623</td>\n",
       "      <td>0.404762</td>\n",
       "      <td>0.424242</td>\n",
       "      <td>...</td>\n",
       "      <td>1</td>\n",
       "      <td>0</td>\n",
       "      <td>0</td>\n",
       "      <td>0</td>\n",
       "      <td>1</td>\n",
       "      <td>1</td>\n",
       "      <td>0</td>\n",
       "      <td>1</td>\n",
       "      <td>0</td>\n",
       "      <td>0</td>\n",
       "    </tr>\n",
       "    <tr>\n",
       "      <td>81</td>\n",
       "      <td>3</td>\n",
       "      <td>0.334483</td>\n",
       "      <td>0.518699</td>\n",
       "      <td>0.425000</td>\n",
       "      <td>0.133333</td>\n",
       "      <td>0.325834</td>\n",
       "      <td>4</td>\n",
       "      <td>0.230189</td>\n",
       "      <td>0.531746</td>\n",
       "      <td>0.641414</td>\n",
       "      <td>...</td>\n",
       "      <td>1</td>\n",
       "      <td>0</td>\n",
       "      <td>0</td>\n",
       "      <td>0</td>\n",
       "      <td>1</td>\n",
       "      <td>1</td>\n",
       "      <td>1</td>\n",
       "      <td>1</td>\n",
       "      <td>0</td>\n",
       "      <td>0</td>\n",
       "    </tr>\n",
       "    <tr>\n",
       "      <td>32</td>\n",
       "      <td>1</td>\n",
       "      <td>0.244828</td>\n",
       "      <td>0.144715</td>\n",
       "      <td>0.308333</td>\n",
       "      <td>0.400000</td>\n",
       "      <td>0.135376</td>\n",
       "      <td>4</td>\n",
       "      <td>0.067925</td>\n",
       "      <td>0.182540</td>\n",
       "      <td>0.444444</td>\n",
       "      <td>...</td>\n",
       "      <td>1</td>\n",
       "      <td>0</td>\n",
       "      <td>0</td>\n",
       "      <td>0</td>\n",
       "      <td>1</td>\n",
       "      <td>1</td>\n",
       "      <td>1</td>\n",
       "      <td>1</td>\n",
       "      <td>0</td>\n",
       "      <td>0</td>\n",
       "    </tr>\n",
       "    <tr>\n",
       "      <td>99</td>\n",
       "      <td>0</td>\n",
       "      <td>0.365517</td>\n",
       "      <td>0.525203</td>\n",
       "      <td>0.408333</td>\n",
       "      <td>0.575000</td>\n",
       "      <td>0.324282</td>\n",
       "      <td>4</td>\n",
       "      <td>0.222642</td>\n",
       "      <td>0.515873</td>\n",
       "      <td>0.646465</td>\n",
       "      <td>...</td>\n",
       "      <td>1</td>\n",
       "      <td>0</td>\n",
       "      <td>0</td>\n",
       "      <td>0</td>\n",
       "      <td>1</td>\n",
       "      <td>1</td>\n",
       "      <td>0</td>\n",
       "      <td>1</td>\n",
       "      <td>0</td>\n",
       "      <td>0</td>\n",
       "    </tr>\n",
       "  </tbody>\n",
       "</table>\n",
       "<p>5 rows × 62 columns</p>\n",
       "</div>"
      ],
      "text/plain": [
       "     symboling  wheelbase  carlength  carwidth  carheight  curbweight  \\\n",
       "3            2   0.455172   0.577236  0.491667   0.541667    0.329325   \n",
       "157          0   0.313793   0.409756  0.341667   0.416667    0.240884   \n",
       "81           3   0.334483   0.518699  0.425000   0.133333    0.325834   \n",
       "32           1   0.244828   0.144715  0.308333   0.400000    0.135376   \n",
       "99           0   0.365517   0.525203  0.408333   0.575000    0.324282   \n",
       "\n",
       "     cylindernumber  enginesize  boreratio    stroke  ...  ohc  ohcf  ohcv  \\\n",
       "3                 4    0.181132   0.404762  0.611111  ...    1     0     0   \n",
       "157               4    0.139623   0.404762  0.424242  ...    1     0     0   \n",
       "81                4    0.230189   0.531746  0.641414  ...    1     0     0   \n",
       "32                4    0.067925   0.182540  0.444444  ...    1     0     0   \n",
       "99                4    0.222642   0.515873  0.646465  ...    1     0     0   \n",
       "\n",
       "     rotor  fueltype_gas  aspiration_std  doornumber_two  \\\n",
       "3        0             1               1               0   \n",
       "157      0             1               1               0   \n",
       "81       0             1               1               1   \n",
       "32       0             1               1               1   \n",
       "99       0             1               1               0   \n",
       "\n",
       "     enginelocation_front  Medium  High  \n",
       "3                       1       1     0  \n",
       "157                     1       0     0  \n",
       "81                      1       0     0  \n",
       "32                      1       0     0  \n",
       "99                      1       0     0  \n",
       "\n",
       "[5 rows x 62 columns]"
      ]
     },
     "execution_count": 37,
     "metadata": {},
     "output_type": "execute_result"
    }
   ],
   "source": [
    "# To apply scaler to all the features except dummy variables and label encoding variables.\n",
    "df_train[num_vars_p] = scaler.fit_transform(df_train[num_vars_p])\n",
    "\n",
    "df_train.head()"
   ]
  },
  {
   "cell_type": "markdown",
   "metadata": {},
   "source": [
    "#### Dividing the dependent and independent variables from train set"
   ]
  },
  {
   "cell_type": "code",
   "execution_count": 38,
   "metadata": {},
   "outputs": [],
   "source": [
    "# To split X and Y variables\n",
    "y_train = df_train.pop('price')\n",
    "X_train = df_train"
   ]
  },
  {
   "cell_type": "code",
   "execution_count": 39,
   "metadata": {},
   "outputs": [],
   "source": [
    "# To build the model\n",
    "# Running RFE with the output number of the variable equal to 15\n",
    "lm = LinearRegression()\n",
    "lm.fit(X_train, y_train)\n",
    "\n",
    "rfe = RFE(lm, 10)             # running RFE\n",
    "rfe = rfe.fit(X_train, y_train)"
   ]
  },
  {
   "cell_type": "code",
   "execution_count": 40,
   "metadata": {},
   "outputs": [
    {
     "data": {
      "text/plain": [
       "[('symboling', False, 49),\n",
       " ('wheelbase', False, 17),\n",
       " ('carlength', False, 24),\n",
       " ('carwidth', True, 1),\n",
       " ('carheight', False, 16),\n",
       " ('curbweight', True, 1),\n",
       " ('cylindernumber', False, 21),\n",
       " ('enginesize', False, 8),\n",
       " ('boreratio', False, 19),\n",
       " ('stroke', False, 11),\n",
       " ('compressionratio', False, 6),\n",
       " ('horsepower', True, 1),\n",
       " ('peakrpm', False, 9),\n",
       " ('citympg', False, 4),\n",
       " ('highwaympg', False, 40),\n",
       " ('audi', False, 51),\n",
       " ('bmw', True, 1),\n",
       " ('buick', False, 43),\n",
       " ('chevrolet', False, 26),\n",
       " ('dodge', False, 25),\n",
       " ('honda', False, 27),\n",
       " ('isuzu', False, 32),\n",
       " ('jaguar', False, 28),\n",
       " ('mazda', False, 35),\n",
       " ('mercury', False, 50),\n",
       " ('mitsubishi', False, 15),\n",
       " ('nissan', False, 33),\n",
       " ('peugeot', True, 1),\n",
       " ('plymouth', False, 23),\n",
       " ('porsche', False, 39),\n",
       " ('renault', False, 29),\n",
       " ('saab', False, 18),\n",
       " ('subaru', False, 12),\n",
       " ('toyota', False, 31),\n",
       " ('volkswagen', False, 34),\n",
       " ('volvo', False, 30),\n",
       " ('hardtop', True, 1),\n",
       " ('hatchback', False, 2),\n",
       " ('sedan', False, 3),\n",
       " ('wagon', True, 1),\n",
       " ('fwd', False, 46),\n",
       " ('rwd', False, 48),\n",
       " ('2bbl', False, 44),\n",
       " ('4bbl', False, 36),\n",
       " ('idi', False, 7),\n",
       " ('mfi', False, 14),\n",
       " ('mpfi', False, 37),\n",
       " ('spdi', False, 38),\n",
       " ('spfi', False, 52),\n",
       " ('dohcv', False, 20),\n",
       " ('l', True, 1),\n",
       " ('ohc', False, 22),\n",
       " ('ohcf', False, 13),\n",
       " ('ohcv', False, 42),\n",
       " ('rotor', False, 5),\n",
       " ('fueltype_gas', False, 10),\n",
       " ('aspiration_std', False, 41),\n",
       " ('doornumber_two', False, 47),\n",
       " ('enginelocation_front', True, 1),\n",
       " ('Medium', False, 45),\n",
       " ('High', True, 1)]"
      ]
     },
     "execution_count": 40,
     "metadata": {},
     "output_type": "execute_result"
    }
   ],
   "source": [
    "list(zip(X_train.columns,rfe.support_,rfe.ranking_))"
   ]
  },
  {
   "cell_type": "code",
   "execution_count": 41,
   "metadata": {},
   "outputs": [
    {
     "data": {
      "text/plain": [
       "Index(['carwidth', 'curbweight', 'horsepower', 'bmw', 'peugeot', 'hardtop',\n",
       "       'wagon', 'l', 'enginelocation_front', 'High'],\n",
       "      dtype='object')"
      ]
     },
     "execution_count": 41,
     "metadata": {},
     "output_type": "execute_result"
    }
   ],
   "source": [
    "col = X_train.columns[rfe.support_]\n",
    "col"
   ]
  },
  {
   "cell_type": "markdown",
   "metadata": {},
   "source": [
    "### Building model using statsmodel, for the detailed statistics"
   ]
  },
  {
   "cell_type": "code",
   "execution_count": 42,
   "metadata": {},
   "outputs": [],
   "source": [
    "# Creating X_test dataframe with RFE selected variables\n",
    "X_train_rfe = X_train[col]"
   ]
  },
  {
   "cell_type": "markdown",
   "metadata": {},
   "source": [
    "### Model 1"
   ]
  },
  {
   "cell_type": "code",
   "execution_count": 43,
   "metadata": {},
   "outputs": [],
   "source": [
    "# Adding a constant variable \n",
    "import statsmodels.api as sm  \n",
    "X_train_rfe = sm.add_constant(X_train_rfe)"
   ]
  },
  {
   "cell_type": "code",
   "execution_count": 44,
   "metadata": {},
   "outputs": [],
   "source": [
    "lm = sm.OLS(y_train,X_train_rfe).fit()   # Running the linear model"
   ]
  },
  {
   "cell_type": "code",
   "execution_count": 45,
   "metadata": {},
   "outputs": [
    {
     "name": "stdout",
     "output_type": "stream",
     "text": [
      "                            OLS Regression Results                            \n",
      "==============================================================================\n",
      "Dep. Variable:                  price   R-squared:                       0.940\n",
      "Model:                            OLS   Adj. R-squared:                  0.936\n",
      "Method:                 Least Squares   F-statistic:                     240.7\n",
      "Date:                Mon, 17 Feb 2020   Prob (F-statistic):           3.20e-88\n",
      "Time:                        17:56:57   Log-Likelihood:                -1468.6\n",
      "No. Observations:                 164   AIC:                             2959.\n",
      "Df Residuals:                     153   BIC:                             2993.\n",
      "Df Model:                          10                                         \n",
      "Covariance Type:            nonrobust                                         \n",
      "========================================================================================\n",
      "                           coef    std err          t      P>|t|      [0.025      0.975]\n",
      "----------------------------------------------------------------------------------------\n",
      "const                 1.418e+04   1685.735      8.409      0.000    1.08e+04    1.75e+04\n",
      "carwidth              6907.3659   1830.610      3.773      0.000    3290.830    1.05e+04\n",
      "curbweight             1.58e+04   1995.124      7.922      0.000    1.19e+04    1.97e+04\n",
      "horsepower            7156.5408   1738.985      4.115      0.000    3721.018    1.06e+04\n",
      "bmw                   5144.7356    947.859      5.428      0.000    3272.154    7017.317\n",
      "peugeot              -6112.4480   2286.995     -2.673      0.008   -1.06e+04   -1594.284\n",
      "hardtop              -1240.7731   1050.684     -1.181      0.239   -3316.494     834.947\n",
      "wagon                -1159.2851    485.938     -2.386      0.018   -2119.300    -199.270\n",
      "l                     4366.8938   2018.250      2.164      0.032     379.659    8354.128\n",
      "enginelocation_front -1.339e+04   1798.858     -7.444      0.000   -1.69e+04   -9837.098\n",
      "High                  6618.2106    773.111      8.560      0.000    5090.861    8145.560\n",
      "==============================================================================\n",
      "Omnibus:                       34.749   Durbin-Watson:                   1.954\n",
      "Prob(Omnibus):                  0.000   Jarque-Bera (JB):               74.585\n",
      "Skew:                           0.935   Prob(JB):                     6.37e-17\n",
      "Kurtosis:                       5.723   Cond. No.                         32.7\n",
      "==============================================================================\n",
      "\n",
      "Warnings:\n",
      "[1] Standard Errors assume that the covariance matrix of the errors is correctly specified.\n"
     ]
    }
   ],
   "source": [
    "#Let's see the summary of our linear model\n",
    "print(lm.summary())"
   ]
  },
  {
   "cell_type": "code",
   "execution_count": 46,
   "metadata": {},
   "outputs": [
    {
     "data": {
      "text/plain": [
       "Index(['const', 'carwidth', 'curbweight', 'horsepower', 'bmw', 'peugeot',\n",
       "       'hardtop', 'wagon', 'l', 'enginelocation_front', 'High'],\n",
       "      dtype='object')"
      ]
     },
     "execution_count": 46,
     "metadata": {},
     "output_type": "execute_result"
    }
   ],
   "source": [
    "X_train_rfe.columns"
   ]
  },
  {
   "cell_type": "code",
   "execution_count": 47,
   "metadata": {},
   "outputs": [],
   "source": [
    "# To drop the constant or error term\n",
    "X_train_rfe = X_train_rfe.drop(['const'], axis=1)"
   ]
  },
  {
   "cell_type": "code",
   "execution_count": 48,
   "metadata": {},
   "outputs": [
    {
     "data": {
      "text/html": [
       "<div>\n",
       "<style scoped>\n",
       "    .dataframe tbody tr th:only-of-type {\n",
       "        vertical-align: middle;\n",
       "    }\n",
       "\n",
       "    .dataframe tbody tr th {\n",
       "        vertical-align: top;\n",
       "    }\n",
       "\n",
       "    .dataframe thead th {\n",
       "        text-align: right;\n",
       "    }\n",
       "</style>\n",
       "<table border=\"1\" class=\"dataframe\">\n",
       "  <thead>\n",
       "    <tr style=\"text-align: right;\">\n",
       "      <th></th>\n",
       "      <th>Features</th>\n",
       "      <th>VIF</th>\n",
       "    </tr>\n",
       "  </thead>\n",
       "  <tbody>\n",
       "    <tr>\n",
       "      <td>0</td>\n",
       "      <td>carwidth</td>\n",
       "      <td>34.60</td>\n",
       "    </tr>\n",
       "    <tr>\n",
       "      <td>1</td>\n",
       "      <td>curbweight</td>\n",
       "      <td>33.70</td>\n",
       "    </tr>\n",
       "    <tr>\n",
       "      <td>8</td>\n",
       "      <td>enginelocation_front</td>\n",
       "      <td>13.14</td>\n",
       "    </tr>\n",
       "    <tr>\n",
       "      <td>4</td>\n",
       "      <td>peugeot</td>\n",
       "      <td>11.05</td>\n",
       "    </tr>\n",
       "    <tr>\n",
       "      <td>7</td>\n",
       "      <td>l</td>\n",
       "      <td>9.73</td>\n",
       "    </tr>\n",
       "    <tr>\n",
       "      <td>2</td>\n",
       "      <td>horsepower</td>\n",
       "      <td>8.66</td>\n",
       "    </tr>\n",
       "    <tr>\n",
       "      <td>9</td>\n",
       "      <td>High</td>\n",
       "      <td>3.09</td>\n",
       "    </tr>\n",
       "    <tr>\n",
       "      <td>3</td>\n",
       "      <td>bmw</td>\n",
       "      <td>1.39</td>\n",
       "    </tr>\n",
       "    <tr>\n",
       "      <td>6</td>\n",
       "      <td>wagon</td>\n",
       "      <td>1.36</td>\n",
       "    </tr>\n",
       "    <tr>\n",
       "      <td>5</td>\n",
       "      <td>hardtop</td>\n",
       "      <td>1.06</td>\n",
       "    </tr>\n",
       "  </tbody>\n",
       "</table>\n",
       "</div>"
      ],
      "text/plain": [
       "               Features    VIF\n",
       "0              carwidth  34.60\n",
       "1            curbweight  33.70\n",
       "8  enginelocation_front  13.14\n",
       "4               peugeot  11.05\n",
       "7                     l   9.73\n",
       "2            horsepower   8.66\n",
       "9                  High   3.09\n",
       "3                   bmw   1.39\n",
       "6                 wagon   1.36\n",
       "5               hardtop   1.06"
      ]
     },
     "execution_count": 48,
     "metadata": {},
     "output_type": "execute_result"
    }
   ],
   "source": [
    "# Calculate the VIFs for the new model\n",
    "from statsmodels.stats.outliers_influence import variance_inflation_factor\n",
    "\n",
    "vif = pd.DataFrame()\n",
    "X = X_train_rfe\n",
    "vif['Features'] = X.columns\n",
    "vif['VIF'] = [variance_inflation_factor(X.values, i) for i in range(X.shape[1])]\n",
    "vif['VIF'] = round(vif['VIF'], 2)\n",
    "vif = vif.sort_values(by = \"VIF\", ascending = False)\n",
    "vif"
   ]
  },
  {
   "cell_type": "markdown",
   "metadata": {},
   "source": [
    "Remove the carwidth as it has the high VIF."
   ]
  },
  {
   "cell_type": "code",
   "execution_count": 49,
   "metadata": {},
   "outputs": [],
   "source": [
    "X_train_rfe = X_train_rfe.drop(['carwidth'], axis=1)"
   ]
  },
  {
   "cell_type": "markdown",
   "metadata": {},
   "source": [
    "### Model 2"
   ]
  },
  {
   "cell_type": "code",
   "execution_count": 50,
   "metadata": {},
   "outputs": [
    {
     "name": "stdout",
     "output_type": "stream",
     "text": [
      "                            OLS Regression Results                            \n",
      "==============================================================================\n",
      "Dep. Variable:                  price   R-squared:                       0.935\n",
      "Model:                            OLS   Adj. R-squared:                  0.931\n",
      "Method:                 Least Squares   F-statistic:                     244.8\n",
      "Date:                Mon, 17 Feb 2020   Prob (F-statistic):           1.75e-86\n",
      "Time:                        17:56:58   Log-Likelihood:                -1475.9\n",
      "No. Observations:                 164   AIC:                             2972.\n",
      "Df Residuals:                     154   BIC:                             3003.\n",
      "Df Model:                           9                                         \n",
      "Covariance Type:            nonrobust                                         \n",
      "========================================================================================\n",
      "                           coef    std err          t      P>|t|      [0.025      0.975]\n",
      "----------------------------------------------------------------------------------------\n",
      "const                 1.362e+04   1749.962      7.782      0.000    1.02e+04    1.71e+04\n",
      "curbweight            1.975e+04   1770.699     11.154      0.000    1.63e+04    2.32e+04\n",
      "horsepower            7913.2362   1800.094      4.396      0.000    4357.172    1.15e+04\n",
      "bmw                   4174.9489    950.752      4.391      0.000    2296.749    6053.148\n",
      "peugeot              -4215.9100   2324.991     -1.813      0.072   -8808.902     377.082\n",
      "hardtop              -1427.4714   1093.695     -1.305      0.194   -3588.053     733.110\n",
      "wagon                -1366.2852    503.155     -2.715      0.007   -2360.263    -372.308\n",
      "l                     3004.9394   2069.295      1.452      0.148   -1082.929    7092.808\n",
      "enginelocation_front -1.147e+04   1798.160     -6.380      0.000    -1.5e+04   -7920.433\n",
      "High                  7497.6788    768.167      9.760      0.000    5980.173    9015.184\n",
      "==============================================================================\n",
      "Omnibus:                       24.137   Durbin-Watson:                   2.001\n",
      "Prob(Omnibus):                  0.000   Jarque-Bera (JB):               47.329\n",
      "Skew:                           0.681   Prob(JB):                     5.28e-11\n",
      "Kurtosis:                       5.252   Cond. No.                         30.7\n",
      "==============================================================================\n",
      "\n",
      "Warnings:\n",
      "[1] Standard Errors assume that the covariance matrix of the errors is correctly specified.\n"
     ]
    }
   ],
   "source": [
    "# Adding a constant variable \n",
    "X_train_rfe = sm.add_constant(X_train_rfe)\n",
    "lm = sm.OLS(y_train,X_train_rfe).fit()   # Running the linear model\n",
    "#Let's see the summary of our linear model\n",
    "print(lm.summary())"
   ]
  },
  {
   "cell_type": "code",
   "execution_count": 51,
   "metadata": {},
   "outputs": [
    {
     "data": {
      "text/html": [
       "<div>\n",
       "<style scoped>\n",
       "    .dataframe tbody tr th:only-of-type {\n",
       "        vertical-align: middle;\n",
       "    }\n",
       "\n",
       "    .dataframe tbody tr th {\n",
       "        vertical-align: top;\n",
       "    }\n",
       "\n",
       "    .dataframe thead th {\n",
       "        text-align: right;\n",
       "    }\n",
       "</style>\n",
       "<table border=\"1\" class=\"dataframe\">\n",
       "  <thead>\n",
       "    <tr style=\"text-align: right;\">\n",
       "      <th></th>\n",
       "      <th>Features</th>\n",
       "      <th>VIF</th>\n",
       "    </tr>\n",
       "  </thead>\n",
       "  <tbody>\n",
       "    <tr>\n",
       "      <td>0</td>\n",
       "      <td>curbweight</td>\n",
       "      <td>23.62</td>\n",
       "    </tr>\n",
       "    <tr>\n",
       "      <td>3</td>\n",
       "      <td>peugeot</td>\n",
       "      <td>10.54</td>\n",
       "    </tr>\n",
       "    <tr>\n",
       "      <td>6</td>\n",
       "      <td>l</td>\n",
       "      <td>9.42</td>\n",
       "    </tr>\n",
       "    <tr>\n",
       "      <td>1</td>\n",
       "      <td>horsepower</td>\n",
       "      <td>8.59</td>\n",
       "    </tr>\n",
       "    <tr>\n",
       "      <td>7</td>\n",
       "      <td>enginelocation_front</td>\n",
       "      <td>7.57</td>\n",
       "    </tr>\n",
       "    <tr>\n",
       "      <td>8</td>\n",
       "      <td>High</td>\n",
       "      <td>2.83</td>\n",
       "    </tr>\n",
       "    <tr>\n",
       "      <td>5</td>\n",
       "      <td>wagon</td>\n",
       "      <td>1.34</td>\n",
       "    </tr>\n",
       "    <tr>\n",
       "      <td>2</td>\n",
       "      <td>bmw</td>\n",
       "      <td>1.29</td>\n",
       "    </tr>\n",
       "    <tr>\n",
       "      <td>4</td>\n",
       "      <td>hardtop</td>\n",
       "      <td>1.05</td>\n",
       "    </tr>\n",
       "  </tbody>\n",
       "</table>\n",
       "</div>"
      ],
      "text/plain": [
       "               Features    VIF\n",
       "0            curbweight  23.62\n",
       "3               peugeot  10.54\n",
       "6                     l   9.42\n",
       "1            horsepower   8.59\n",
       "7  enginelocation_front   7.57\n",
       "8                  High   2.83\n",
       "5                 wagon   1.34\n",
       "2                   bmw   1.29\n",
       "4               hardtop   1.05"
      ]
     },
     "execution_count": 51,
     "metadata": {},
     "output_type": "execute_result"
    }
   ],
   "source": [
    "# To drop the constant or error term\n",
    "X_train_rfe = X_train_rfe.drop(['const'], axis=1)\n",
    "\n",
    "# Calculate the VIFs for the new model\n",
    "from statsmodels.stats.outliers_influence import variance_inflation_factor\n",
    "\n",
    "vif = pd.DataFrame()\n",
    "X = X_train_rfe\n",
    "vif['Features'] = X.columns\n",
    "vif['VIF'] = [variance_inflation_factor(X.values, i) for i in range(X.shape[1])]\n",
    "vif['VIF'] = round(vif['VIF'], 2)\n",
    "vif = vif.sort_values(by = \"VIF\", ascending = False)\n",
    "vif"
   ]
  },
  {
   "cell_type": "markdown",
   "metadata": {},
   "source": [
    "Remove the curbweight column as it has high VIF."
   ]
  },
  {
   "cell_type": "code",
   "execution_count": 52,
   "metadata": {},
   "outputs": [],
   "source": [
    "X_train_rfe = X_train_rfe.drop(['curbweight'], axis=1)"
   ]
  },
  {
   "cell_type": "markdown",
   "metadata": {},
   "source": [
    "### Model 3"
   ]
  },
  {
   "cell_type": "code",
   "execution_count": 53,
   "metadata": {},
   "outputs": [
    {
     "name": "stdout",
     "output_type": "stream",
     "text": [
      "                            OLS Regression Results                            \n",
      "==============================================================================\n",
      "Dep. Variable:                  price   R-squared:                       0.882\n",
      "Model:                            OLS   Adj. R-squared:                  0.876\n",
      "Method:                 Least Squares   F-statistic:                     144.7\n",
      "Date:                Mon, 17 Feb 2020   Prob (F-statistic):           7.31e-68\n",
      "Time:                        17:56:59   Log-Likelihood:                -1524.5\n",
      "No. Observations:                 164   AIC:                             3067.\n",
      "Df Residuals:                     155   BIC:                             3095.\n",
      "Df Model:                           8                                         \n",
      "Covariance Type:            nonrobust                                         \n",
      "========================================================================================\n",
      "                           coef    std err          t      P>|t|      [0.025      0.975]\n",
      "----------------------------------------------------------------------------------------\n",
      "const                 8897.4723   2275.696      3.910      0.000    4402.091    1.34e+04\n",
      "horsepower            2.278e+04   1621.494     14.049      0.000    1.96e+04     2.6e+04\n",
      "bmw                   2384.9861   1255.937      1.899      0.059     -95.976    4865.948\n",
      "peugeot               5110.7115   2907.511      1.758      0.081    -632.748    1.09e+04\n",
      "hardtop              -1330.1192   1465.748     -0.907      0.366   -4225.540    1565.301\n",
      "wagon                  562.2708    633.274      0.888      0.376    -688.691    1813.233\n",
      "l                     -629.1573   2738.724     -0.230      0.819   -6039.198    4780.883\n",
      "enginelocation_front -3117.3150   2190.858     -1.423      0.157   -7445.109    1210.478\n",
      "High                   1.22e+04    860.315     14.185      0.000    1.05e+04    1.39e+04\n",
      "==============================================================================\n",
      "Omnibus:                       25.751   Durbin-Watson:                   2.171\n",
      "Prob(Omnibus):                  0.000   Jarque-Bera (JB):               53.542\n",
      "Skew:                           0.703   Prob(JB):                     2.36e-12\n",
      "Kurtosis:                       5.421   Cond. No.                         26.8\n",
      "==============================================================================\n",
      "\n",
      "Warnings:\n",
      "[1] Standard Errors assume that the covariance matrix of the errors is correctly specified.\n"
     ]
    }
   ],
   "source": [
    "# Adding a constant variable \n",
    "X_train_rfe = sm.add_constant(X_train_rfe)\n",
    "lm = sm.OLS(y_train,X_train_rfe).fit()   # Running the linear model\n",
    "#Let's see the summary of our linear model\n",
    "print(lm.summary())"
   ]
  },
  {
   "cell_type": "code",
   "execution_count": 54,
   "metadata": {},
   "outputs": [
    {
     "data": {
      "text/html": [
       "<div>\n",
       "<style scoped>\n",
       "    .dataframe tbody tr th:only-of-type {\n",
       "        vertical-align: middle;\n",
       "    }\n",
       "\n",
       "    .dataframe tbody tr th {\n",
       "        vertical-align: top;\n",
       "    }\n",
       "\n",
       "    .dataframe thead th {\n",
       "        text-align: right;\n",
       "    }\n",
       "</style>\n",
       "<table border=\"1\" class=\"dataframe\">\n",
       "  <thead>\n",
       "    <tr style=\"text-align: right;\">\n",
       "      <th></th>\n",
       "      <th>Features</th>\n",
       "      <th>VIF</th>\n",
       "    </tr>\n",
       "  </thead>\n",
       "  <tbody>\n",
       "    <tr>\n",
       "      <td>2</td>\n",
       "      <td>peugeot</td>\n",
       "      <td>9.19</td>\n",
       "    </tr>\n",
       "    <tr>\n",
       "      <td>5</td>\n",
       "      <td>l</td>\n",
       "      <td>9.17</td>\n",
       "    </tr>\n",
       "    <tr>\n",
       "      <td>0</td>\n",
       "      <td>horsepower</td>\n",
       "      <td>4.12</td>\n",
       "    </tr>\n",
       "    <tr>\n",
       "      <td>6</td>\n",
       "      <td>enginelocation_front</td>\n",
       "      <td>3.06</td>\n",
       "    </tr>\n",
       "    <tr>\n",
       "      <td>7</td>\n",
       "      <td>High</td>\n",
       "      <td>2.06</td>\n",
       "    </tr>\n",
       "    <tr>\n",
       "      <td>1</td>\n",
       "      <td>bmw</td>\n",
       "      <td>1.27</td>\n",
       "    </tr>\n",
       "    <tr>\n",
       "      <td>4</td>\n",
       "      <td>wagon</td>\n",
       "      <td>1.20</td>\n",
       "    </tr>\n",
       "    <tr>\n",
       "      <td>3</td>\n",
       "      <td>hardtop</td>\n",
       "      <td>1.04</td>\n",
       "    </tr>\n",
       "  </tbody>\n",
       "</table>\n",
       "</div>"
      ],
      "text/plain": [
       "               Features   VIF\n",
       "2               peugeot  9.19\n",
       "5                     l  9.17\n",
       "0            horsepower  4.12\n",
       "6  enginelocation_front  3.06\n",
       "7                  High  2.06\n",
       "1                   bmw  1.27\n",
       "4                 wagon  1.20\n",
       "3               hardtop  1.04"
      ]
     },
     "execution_count": 54,
     "metadata": {},
     "output_type": "execute_result"
    }
   ],
   "source": [
    "# To drop the constant or error term\n",
    "X_train_rfe = X_train_rfe.drop(['const'], axis=1)\n",
    "\n",
    "# Calculate the VIFs for the new model\n",
    "from statsmodels.stats.outliers_influence import variance_inflation_factor\n",
    "\n",
    "vif = pd.DataFrame()\n",
    "X = X_train_rfe\n",
    "vif['Features'] = X.columns\n",
    "vif['VIF'] = [variance_inflation_factor(X.values, i) for i in range(X.shape[1])]\n",
    "vif['VIF'] = round(vif['VIF'], 2)\n",
    "vif = vif.sort_values(by = \"VIF\", ascending = False)\n",
    "vif"
   ]
  },
  {
   "cell_type": "markdown",
   "metadata": {},
   "source": [
    "Removing the l feature as it has high p-value and VIF."
   ]
  },
  {
   "cell_type": "code",
   "execution_count": 55,
   "metadata": {},
   "outputs": [],
   "source": [
    "X_train_rfe = X_train_rfe.drop(['l'], axis=1)"
   ]
  },
  {
   "cell_type": "markdown",
   "metadata": {},
   "source": [
    "### Model 4"
   ]
  },
  {
   "cell_type": "code",
   "execution_count": 56,
   "metadata": {},
   "outputs": [
    {
     "name": "stdout",
     "output_type": "stream",
     "text": [
      "                            OLS Regression Results                            \n",
      "==============================================================================\n",
      "Dep. Variable:                  price   R-squared:                       0.882\n",
      "Model:                            OLS   Adj. R-squared:                  0.877\n",
      "Method:                 Least Squares   F-statistic:                     166.3\n",
      "Date:                Mon, 17 Feb 2020   Prob (F-statistic):           5.60e-69\n",
      "Time:                        17:56:59   Log-Likelihood:                -1524.5\n",
      "No. Observations:                 164   AIC:                             3065.\n",
      "Df Residuals:                     156   BIC:                             3090.\n",
      "Df Model:                           7                                         \n",
      "Covariance Type:            nonrobust                                         \n",
      "========================================================================================\n",
      "                           coef    std err          t      P>|t|      [0.025      0.975]\n",
      "----------------------------------------------------------------------------------------\n",
      "const                 8875.1818   2266.714      3.915      0.000    4397.770    1.34e+04\n",
      "horsepower            2.282e+04   1606.950     14.201      0.000    1.96e+04     2.6e+04\n",
      "bmw                   2387.8006   1252.059      1.907      0.058     -85.375    4860.976\n",
      "peugeot               4483.5714    997.471      4.495      0.000    2513.279    6453.864\n",
      "hardtop              -1326.7334   1461.218     -0.908      0.365   -4213.059    1559.592\n",
      "wagon                  566.9560    631.021      0.898      0.370    -679.493    1813.405\n",
      "enginelocation_front -3107.8202   2183.808     -1.423      0.157   -7421.469    1205.829\n",
      "High                   1.22e+04    857.266     14.228      0.000    1.05e+04    1.39e+04\n",
      "==============================================================================\n",
      "Omnibus:                       25.819   Durbin-Watson:                   2.175\n",
      "Prob(Omnibus):                  0.000   Jarque-Bera (JB):               53.856\n",
      "Skew:                           0.703   Prob(JB):                     2.02e-12\n",
      "Kurtosis:                       5.429   Cond. No.                         21.9\n",
      "==============================================================================\n",
      "\n",
      "Warnings:\n",
      "[1] Standard Errors assume that the covariance matrix of the errors is correctly specified.\n"
     ]
    }
   ],
   "source": [
    "# Adding a constant variable \n",
    "X_train_rfe = sm.add_constant(X_train_rfe)\n",
    "lm = sm.OLS(y_train,X_train_rfe).fit()   # Running the linear model\n",
    "#Let's see the summary of our linear model\n",
    "print(lm.summary())"
   ]
  },
  {
   "cell_type": "code",
   "execution_count": 57,
   "metadata": {},
   "outputs": [
    {
     "data": {
      "text/html": [
       "<div>\n",
       "<style scoped>\n",
       "    .dataframe tbody tr th:only-of-type {\n",
       "        vertical-align: middle;\n",
       "    }\n",
       "\n",
       "    .dataframe tbody tr th {\n",
       "        vertical-align: top;\n",
       "    }\n",
       "\n",
       "    .dataframe thead th {\n",
       "        text-align: right;\n",
       "    }\n",
       "</style>\n",
       "<table border=\"1\" class=\"dataframe\">\n",
       "  <thead>\n",
       "    <tr style=\"text-align: right;\">\n",
       "      <th></th>\n",
       "      <th>Features</th>\n",
       "      <th>VIF</th>\n",
       "    </tr>\n",
       "  </thead>\n",
       "  <tbody>\n",
       "    <tr>\n",
       "      <td>0</td>\n",
       "      <td>horsepower</td>\n",
       "      <td>4.07</td>\n",
       "    </tr>\n",
       "    <tr>\n",
       "      <td>5</td>\n",
       "      <td>enginelocation_front</td>\n",
       "      <td>3.01</td>\n",
       "    </tr>\n",
       "    <tr>\n",
       "      <td>6</td>\n",
       "      <td>High</td>\n",
       "      <td>2.06</td>\n",
       "    </tr>\n",
       "    <tr>\n",
       "      <td>1</td>\n",
       "      <td>bmw</td>\n",
       "      <td>1.27</td>\n",
       "    </tr>\n",
       "    <tr>\n",
       "      <td>4</td>\n",
       "      <td>wagon</td>\n",
       "      <td>1.20</td>\n",
       "    </tr>\n",
       "    <tr>\n",
       "      <td>2</td>\n",
       "      <td>peugeot</td>\n",
       "      <td>1.09</td>\n",
       "    </tr>\n",
       "    <tr>\n",
       "      <td>3</td>\n",
       "      <td>hardtop</td>\n",
       "      <td>1.04</td>\n",
       "    </tr>\n",
       "  </tbody>\n",
       "</table>\n",
       "</div>"
      ],
      "text/plain": [
       "               Features   VIF\n",
       "0            horsepower  4.07\n",
       "5  enginelocation_front  3.01\n",
       "6                  High  2.06\n",
       "1                   bmw  1.27\n",
       "4                 wagon  1.20\n",
       "2               peugeot  1.09\n",
       "3               hardtop  1.04"
      ]
     },
     "execution_count": 57,
     "metadata": {},
     "output_type": "execute_result"
    }
   ],
   "source": [
    "# To drop the constant or error term\n",
    "X_train_rfe = X_train_rfe.drop(['const'], axis=1)\n",
    "\n",
    "# Calculate the VIFs for the new model\n",
    "from statsmodels.stats.outliers_influence import variance_inflation_factor\n",
    "\n",
    "vif = pd.DataFrame()\n",
    "X = X_train_rfe\n",
    "vif['Features'] = X.columns\n",
    "vif['VIF'] = [variance_inflation_factor(X.values, i) for i in range(X.shape[1])]\n",
    "vif['VIF'] = round(vif['VIF'], 2)\n",
    "vif = vif.sort_values(by = \"VIF\", ascending = False)\n",
    "vif"
   ]
  },
  {
   "cell_type": "markdown",
   "metadata": {},
   "source": [
    "Removing wagon as the p-value is high."
   ]
  },
  {
   "cell_type": "code",
   "execution_count": 58,
   "metadata": {},
   "outputs": [],
   "source": [
    "X_train_rfe = X_train_rfe.drop(['wagon'], axis=1)"
   ]
  },
  {
   "cell_type": "markdown",
   "metadata": {},
   "source": [
    "### Model 5"
   ]
  },
  {
   "cell_type": "code",
   "execution_count": 59,
   "metadata": {},
   "outputs": [
    {
     "name": "stdout",
     "output_type": "stream",
     "text": [
      "                            OLS Regression Results                            \n",
      "==============================================================================\n",
      "Dep. Variable:                  price   R-squared:                       0.881\n",
      "Model:                            OLS   Adj. R-squared:                  0.877\n",
      "Method:                 Least Squares   F-statistic:                     194.2\n",
      "Date:                Mon, 17 Feb 2020   Prob (F-statistic):           5.74e-70\n",
      "Time:                        17:57:00   Log-Likelihood:                -1524.9\n",
      "No. Observations:                 164   AIC:                             3064.\n",
      "Df Residuals:                     157   BIC:                             3086.\n",
      "Df Model:                           6                                         \n",
      "Covariance Type:            nonrobust                                         \n",
      "========================================================================================\n",
      "                           coef    std err          t      P>|t|      [0.025      0.975]\n",
      "----------------------------------------------------------------------------------------\n",
      "const                 8943.2421   2264.057      3.950      0.000    4471.302    1.34e+04\n",
      "horsepower            2.282e+04   1605.963     14.210      0.000    1.96e+04     2.6e+04\n",
      "bmw                   2339.4177   1250.132      1.871      0.063    -129.829    4808.665\n",
      "peugeot               4618.7549    985.453      4.687      0.000    2672.299    6565.210\n",
      "hardtop              -1393.0979   1458.454     -0.955      0.341   -4273.820    1487.624\n",
      "enginelocation_front -3098.4427   2182.442     -1.420      0.158   -7409.179    1212.294\n",
      "High                  1.216e+04    855.863     14.211      0.000    1.05e+04    1.39e+04\n",
      "==============================================================================\n",
      "Omnibus:                       25.085   Durbin-Watson:                   2.154\n",
      "Prob(Omnibus):                  0.000   Jarque-Bera (JB):               52.060\n",
      "Skew:                           0.685   Prob(JB):                     4.96e-12\n",
      "Kurtosis:                       5.396   Cond. No.                         21.8\n",
      "==============================================================================\n",
      "\n",
      "Warnings:\n",
      "[1] Standard Errors assume that the covariance matrix of the errors is correctly specified.\n"
     ]
    }
   ],
   "source": [
    "# Adding a constant variable \n",
    "X_train_rfe = sm.add_constant(X_train_rfe)\n",
    "lm = sm.OLS(y_train,X_train_rfe).fit()   # Running the linear model\n",
    "#Let's see the summary of our linear model\n",
    "print(lm.summary())"
   ]
  },
  {
   "cell_type": "code",
   "execution_count": 60,
   "metadata": {},
   "outputs": [
    {
     "data": {
      "text/html": [
       "<div>\n",
       "<style scoped>\n",
       "    .dataframe tbody tr th:only-of-type {\n",
       "        vertical-align: middle;\n",
       "    }\n",
       "\n",
       "    .dataframe tbody tr th {\n",
       "        vertical-align: top;\n",
       "    }\n",
       "\n",
       "    .dataframe thead th {\n",
       "        text-align: right;\n",
       "    }\n",
       "</style>\n",
       "<table border=\"1\" class=\"dataframe\">\n",
       "  <thead>\n",
       "    <tr style=\"text-align: right;\">\n",
       "      <th></th>\n",
       "      <th>Features</th>\n",
       "      <th>VIF</th>\n",
       "    </tr>\n",
       "  </thead>\n",
       "  <tbody>\n",
       "    <tr>\n",
       "      <td>0</td>\n",
       "      <td>horsepower</td>\n",
       "      <td>4.07</td>\n",
       "    </tr>\n",
       "    <tr>\n",
       "      <td>4</td>\n",
       "      <td>enginelocation_front</td>\n",
       "      <td>2.85</td>\n",
       "    </tr>\n",
       "    <tr>\n",
       "      <td>5</td>\n",
       "      <td>High</td>\n",
       "      <td>2.06</td>\n",
       "    </tr>\n",
       "    <tr>\n",
       "      <td>1</td>\n",
       "      <td>bmw</td>\n",
       "      <td>1.26</td>\n",
       "    </tr>\n",
       "    <tr>\n",
       "      <td>2</td>\n",
       "      <td>peugeot</td>\n",
       "      <td>1.06</td>\n",
       "    </tr>\n",
       "    <tr>\n",
       "      <td>3</td>\n",
       "      <td>hardtop</td>\n",
       "      <td>1.04</td>\n",
       "    </tr>\n",
       "  </tbody>\n",
       "</table>\n",
       "</div>"
      ],
      "text/plain": [
       "               Features   VIF\n",
       "0            horsepower  4.07\n",
       "4  enginelocation_front  2.85\n",
       "5                  High  2.06\n",
       "1                   bmw  1.26\n",
       "2               peugeot  1.06\n",
       "3               hardtop  1.04"
      ]
     },
     "execution_count": 60,
     "metadata": {},
     "output_type": "execute_result"
    }
   ],
   "source": [
    "# To drop the constant or error term\n",
    "X_train_rfe = X_train_rfe.drop(['const'], axis=1)\n",
    "\n",
    "# Calculate the VIFs for the new model\n",
    "from statsmodels.stats.outliers_influence import variance_inflation_factor\n",
    "\n",
    "vif = pd.DataFrame()\n",
    "X = X_train_rfe\n",
    "vif['Features'] = X.columns\n",
    "vif['VIF'] = [variance_inflation_factor(X.values, i) for i in range(X.shape[1])]\n",
    "vif['VIF'] = round(vif['VIF'], 2)\n",
    "vif = vif.sort_values(by = \"VIF\", ascending = False)\n",
    "vif"
   ]
  },
  {
   "cell_type": "markdown",
   "metadata": {},
   "source": [
    "Removing hardtop column as the p-value is high."
   ]
  },
  {
   "cell_type": "code",
   "execution_count": 61,
   "metadata": {},
   "outputs": [],
   "source": [
    "X_train_rfe = X_train_rfe.drop(['hardtop'], axis=1)"
   ]
  },
  {
   "cell_type": "markdown",
   "metadata": {},
   "source": [
    "### Model 6"
   ]
  },
  {
   "cell_type": "code",
   "execution_count": 62,
   "metadata": {},
   "outputs": [
    {
     "name": "stdout",
     "output_type": "stream",
     "text": [
      "                            OLS Regression Results                            \n",
      "==============================================================================\n",
      "Dep. Variable:                  price   R-squared:                       0.881\n",
      "Model:                            OLS   Adj. R-squared:                  0.877\n",
      "Method:                 Least Squares   F-statistic:                     232.9\n",
      "Date:                Mon, 17 Feb 2020   Prob (F-statistic):           5.62e-71\n",
      "Time:                        17:57:00   Log-Likelihood:                -1525.4\n",
      "No. Observations:                 164   AIC:                             3063.\n",
      "Df Residuals:                     158   BIC:                             3081.\n",
      "Df Model:                           5                                         \n",
      "Covariance Type:            nonrobust                                         \n",
      "========================================================================================\n",
      "                           coef    std err          t      P>|t|      [0.025      0.975]\n",
      "----------------------------------------------------------------------------------------\n",
      "const                 8237.6184   2139.555      3.850      0.000    4011.801    1.25e+04\n",
      "horsepower            2.277e+04   1604.606     14.190      0.000    1.96e+04    2.59e+04\n",
      "bmw                   2344.2472   1249.775      1.876      0.063    -124.174    4812.668\n",
      "peugeot               4651.7963    984.572      4.725      0.000    2707.175    6596.417\n",
      "enginelocation_front -2414.3645   2061.018     -1.171      0.243   -6485.066    1656.337\n",
      "High                  1.221e+04    854.423     14.286      0.000    1.05e+04    1.39e+04\n",
      "==============================================================================\n",
      "Omnibus:                       25.098   Durbin-Watson:                   2.135\n",
      "Prob(Omnibus):                  0.000   Jarque-Bera (JB):               51.220\n",
      "Skew:                           0.692   Prob(JB):                     7.55e-12\n",
      "Kurtosis:                       5.362   Cond. No.                         20.4\n",
      "==============================================================================\n",
      "\n",
      "Warnings:\n",
      "[1] Standard Errors assume that the covariance matrix of the errors is correctly specified.\n"
     ]
    }
   ],
   "source": [
    "# Adding a constant variable \n",
    "X_train_rfe = sm.add_constant(X_train_rfe)\n",
    "lm = sm.OLS(y_train,X_train_rfe).fit()   # Running the linear model\n",
    "#Let's see the summary of our linear model\n",
    "print(lm.summary())"
   ]
  },
  {
   "cell_type": "code",
   "execution_count": 63,
   "metadata": {},
   "outputs": [
    {
     "data": {
      "text/html": [
       "<div>\n",
       "<style scoped>\n",
       "    .dataframe tbody tr th:only-of-type {\n",
       "        vertical-align: middle;\n",
       "    }\n",
       "\n",
       "    .dataframe tbody tr th {\n",
       "        vertical-align: top;\n",
       "    }\n",
       "\n",
       "    .dataframe thead th {\n",
       "        text-align: right;\n",
       "    }\n",
       "</style>\n",
       "<table border=\"1\" class=\"dataframe\">\n",
       "  <thead>\n",
       "    <tr style=\"text-align: right;\">\n",
       "      <th></th>\n",
       "      <th>Features</th>\n",
       "      <th>VIF</th>\n",
       "    </tr>\n",
       "  </thead>\n",
       "  <tbody>\n",
       "    <tr>\n",
       "      <td>0</td>\n",
       "      <td>horsepower</td>\n",
       "      <td>4.00</td>\n",
       "    </tr>\n",
       "    <tr>\n",
       "      <td>3</td>\n",
       "      <td>enginelocation_front</td>\n",
       "      <td>2.85</td>\n",
       "    </tr>\n",
       "    <tr>\n",
       "      <td>4</td>\n",
       "      <td>High</td>\n",
       "      <td>2.06</td>\n",
       "    </tr>\n",
       "    <tr>\n",
       "      <td>1</td>\n",
       "      <td>bmw</td>\n",
       "      <td>1.26</td>\n",
       "    </tr>\n",
       "    <tr>\n",
       "      <td>2</td>\n",
       "      <td>peugeot</td>\n",
       "      <td>1.06</td>\n",
       "    </tr>\n",
       "  </tbody>\n",
       "</table>\n",
       "</div>"
      ],
      "text/plain": [
       "               Features   VIF\n",
       "0            horsepower  4.00\n",
       "3  enginelocation_front  2.85\n",
       "4                  High  2.06\n",
       "1                   bmw  1.26\n",
       "2               peugeot  1.06"
      ]
     },
     "execution_count": 63,
     "metadata": {},
     "output_type": "execute_result"
    }
   ],
   "source": [
    "# To drop the constant or error term\n",
    "X_train_rfe = X_train_rfe.drop(['const'], axis=1)\n",
    "\n",
    "# Calculate the VIFs for the new model\n",
    "from statsmodels.stats.outliers_influence import variance_inflation_factor\n",
    "\n",
    "vif = pd.DataFrame()\n",
    "X = X_train_rfe\n",
    "vif['Features'] = X.columns\n",
    "vif['VIF'] = [variance_inflation_factor(X.values, i) for i in range(X.shape[1])]\n",
    "vif['VIF'] = round(vif['VIF'], 2)\n",
    "vif = vif.sort_values(by = \"VIF\", ascending = False)\n",
    "vif"
   ]
  },
  {
   "cell_type": "markdown",
   "metadata": {},
   "source": [
    "Removing enginelocation_front column as p-value is high."
   ]
  },
  {
   "cell_type": "code",
   "execution_count": 64,
   "metadata": {},
   "outputs": [],
   "source": [
    "X_train_rfe = X_train_rfe.drop(['enginelocation_front'], axis=1)"
   ]
  },
  {
   "cell_type": "markdown",
   "metadata": {},
   "source": [
    "### Model 7"
   ]
  },
  {
   "cell_type": "code",
   "execution_count": 65,
   "metadata": {},
   "outputs": [
    {
     "name": "stdout",
     "output_type": "stream",
     "text": [
      "                            OLS Regression Results                            \n",
      "==============================================================================\n",
      "Dep. Variable:                  price   R-squared:                       0.880\n",
      "Model:                            OLS   Adj. R-squared:                  0.876\n",
      "Method:                 Least Squares   F-statistic:                     290.2\n",
      "Date:                Mon, 17 Feb 2020   Prob (F-statistic):           6.12e-72\n",
      "Time:                        17:57:00   Log-Likelihood:                -1526.1\n",
      "No. Observations:                 164   AIC:                             3062.\n",
      "Df Residuals:                     159   BIC:                             3078.\n",
      "Df Model:                           4                                         \n",
      "Covariance Type:            nonrobust                                         \n",
      "==============================================================================\n",
      "                 coef    std err          t      P>|t|      [0.025      0.975]\n",
      "------------------------------------------------------------------------------\n",
      "const       5769.3855    372.231     15.499      0.000    5034.230    6504.541\n",
      "horsepower  2.307e+04   1585.371     14.553      0.000    1.99e+04    2.62e+04\n",
      "bmw         2121.6018   1236.684      1.716      0.088    -320.844    4564.048\n",
      "peugeot     4638.1133    985.655      4.706      0.000    2691.449    6584.778\n",
      "High         1.24e+04    839.009     14.781      0.000    1.07e+04    1.41e+04\n",
      "==============================================================================\n",
      "Omnibus:                       22.315   Durbin-Watson:                   2.145\n",
      "Prob(Omnibus):                  0.000   Jarque-Bera (JB):               48.293\n",
      "Skew:                           0.590   Prob(JB):                     3.26e-11\n",
      "Kurtosis:                       5.383   Cond. No.                         8.39\n",
      "==============================================================================\n",
      "\n",
      "Warnings:\n",
      "[1] Standard Errors assume that the covariance matrix of the errors is correctly specified.\n"
     ]
    }
   ],
   "source": [
    "# Adding a constant variable \n",
    "X_train_rfe = sm.add_constant(X_train_rfe)\n",
    "lm = sm.OLS(y_train,X_train_rfe).fit()   # Running the linear model\n",
    "#Let's see the summary of our linear model\n",
    "print(lm.summary())"
   ]
  },
  {
   "cell_type": "code",
   "execution_count": 66,
   "metadata": {},
   "outputs": [
    {
     "data": {
      "text/html": [
       "<div>\n",
       "<style scoped>\n",
       "    .dataframe tbody tr th:only-of-type {\n",
       "        vertical-align: middle;\n",
       "    }\n",
       "\n",
       "    .dataframe tbody tr th {\n",
       "        vertical-align: top;\n",
       "    }\n",
       "\n",
       "    .dataframe thead th {\n",
       "        text-align: right;\n",
       "    }\n",
       "</style>\n",
       "<table border=\"1\" class=\"dataframe\">\n",
       "  <thead>\n",
       "    <tr style=\"text-align: right;\">\n",
       "      <th></th>\n",
       "      <th>Features</th>\n",
       "      <th>VIF</th>\n",
       "    </tr>\n",
       "  </thead>\n",
       "  <tbody>\n",
       "    <tr>\n",
       "      <td>3</td>\n",
       "      <td>High</td>\n",
       "      <td>1.87</td>\n",
       "    </tr>\n",
       "    <tr>\n",
       "      <td>0</td>\n",
       "      <td>horsepower</td>\n",
       "      <td>1.67</td>\n",
       "    </tr>\n",
       "    <tr>\n",
       "      <td>1</td>\n",
       "      <td>bmw</td>\n",
       "      <td>1.25</td>\n",
       "    </tr>\n",
       "    <tr>\n",
       "      <td>2</td>\n",
       "      <td>peugeot</td>\n",
       "      <td>1.05</td>\n",
       "    </tr>\n",
       "  </tbody>\n",
       "</table>\n",
       "</div>"
      ],
      "text/plain": [
       "     Features   VIF\n",
       "3        High  1.87\n",
       "0  horsepower  1.67\n",
       "1         bmw  1.25\n",
       "2     peugeot  1.05"
      ]
     },
     "execution_count": 66,
     "metadata": {},
     "output_type": "execute_result"
    }
   ],
   "source": [
    "# To drop the constant or error term\n",
    "X_train_rfe = X_train_rfe.drop(['const'], axis=1)\n",
    "\n",
    "# Calculate the VIFs for the new model\n",
    "from statsmodels.stats.outliers_influence import variance_inflation_factor\n",
    "\n",
    "vif = pd.DataFrame()\n",
    "X = X_train_rfe\n",
    "vif['Features'] = X.columns\n",
    "vif['VIF'] = [variance_inflation_factor(X.values, i) for i in range(X.shape[1])]\n",
    "vif['VIF'] = round(vif['VIF'], 2)\n",
    "vif = vif.sort_values(by = \"VIF\", ascending = False)\n",
    "vif"
   ]
  },
  {
   "cell_type": "markdown",
   "metadata": {},
   "source": [
    "Eventhough the p-value of bmw columns is 0.088, the VIF is low 1.25 so we can keep the column as we have good Adjusted R-square value overall."
   ]
  },
  {
   "cell_type": "markdown",
   "metadata": {},
   "source": [
    "### Residual Analysis of model"
   ]
  },
  {
   "cell_type": "code",
   "execution_count": 67,
   "metadata": {},
   "outputs": [],
   "source": [
    "X_train_lm = sm.add_constant(X_train_rfe)\n",
    "y_train_price = lm.predict(X_train_lm)"
   ]
  },
  {
   "cell_type": "code",
   "execution_count": 68,
   "metadata": {},
   "outputs": [
    {
     "data": {
      "text/plain": [
       "Text(0.5, 0, 'Errors')"
      ]
     },
     "execution_count": 68,
     "metadata": {},
     "output_type": "execute_result"
    },
    {
     "data": {
      "image/png": "[encoded data removed]",
      "text/plain": [
       "<Figure size 432x288 with 1 Axes>"
      ]
     },
     "metadata": {
      "needs_background": "light"
     },
     "output_type": "display_data"
    }
   ],
   "source": [
    "# Plot the histogram of the error terms\n",
    "fig = plt.figure()\n",
    "sns.distplot((y_train - y_train_price), bins = 20)\n",
    "fig.suptitle('Error Terms', fontsize = 20)                  # Plot heading \n",
    "plt.xlabel('Errors', fontsize = 18) "
   ]
  },
  {
   "cell_type": "markdown",
   "metadata": {},
   "source": [
    "Error terms are normally distributed."
   ]
  },
  {
   "cell_type": "markdown",
   "metadata": {},
   "source": [
    "### Making predictions"
   ]
  },
  {
   "cell_type": "markdown",
   "metadata": {},
   "source": [
    "Applying scales on the test set"
   ]
  },
  {
   "cell_type": "code",
   "execution_count": 69,
   "metadata": {},
   "outputs": [],
   "source": [
    "df_test[num_vars_p] = scaler.transform(df_test[num_vars_p])"
   ]
  },
  {
   "cell_type": "markdown",
   "metadata": {},
   "source": [
    "#### Dividing into X_test and y_test"
   ]
  },
  {
   "cell_type": "code",
   "execution_count": 70,
   "metadata": {},
   "outputs": [],
   "source": [
    "# To split X and y variables\n",
    "y_test = df_test.pop('price')\n",
    "X_test = df_test"
   ]
  },
  {
   "cell_type": "code",
   "execution_count": 71,
   "metadata": {},
   "outputs": [],
   "source": [
    "# Now let's use our model to make predictions.\n",
    "\n",
    "# Creating X_test_new dataframe by dropping variables from X_test\n",
    "X_test_new = X_test[X_train_rfe.columns]\n",
    "\n",
    "# Adding a constant variable \n",
    "X_test_new = sm.add_constant(X_test_new)"
   ]
  },
  {
   "cell_type": "code",
   "execution_count": 72,
   "metadata": {},
   "outputs": [],
   "source": [
    "# Making predictions\n",
    "y_pred = lm.predict(X_test_new)"
   ]
  },
  {
   "cell_type": "markdown",
   "metadata": {},
   "source": [
    "### Model Evaluation"
   ]
  },
  {
   "cell_type": "code",
   "execution_count": 73,
   "metadata": {},
   "outputs": [
    {
     "data": {
      "text/plain": [
       "Text(0, 0.5, 'y_pred')"
      ]
     },
     "execution_count": 73,
     "metadata": {},
     "output_type": "execute_result"
    },
    {
     "data": {
      "image/png": "[encoded data removed]",
      "text/plain": [
       "<Figure size 432x288 with 1 Axes>"
      ]
     },
     "metadata": {
      "needs_background": "light"
     },
     "output_type": "display_data"
    }
   ],
   "source": [
    "# Plotting y_test and y_pred to understand the spread.\n",
    "fig = plt.figure()\n",
    "plt.scatter(y_test,y_pred)\n",
    "fig.suptitle('y_test vs y_pred', fontsize=20)              # Plot heading \n",
    "plt.xlabel('y_test', fontsize=18)                          # X-label\n",
    "plt.ylabel('y_pred', fontsize=16)                          # Y-label"
   ]
  },
  {
   "cell_type": "markdown",
   "metadata": {},
   "source": [
    "## Prediction accuracy"
   ]
  },
  {
   "cell_type": "code",
   "execution_count": 74,
   "metadata": {},
   "outputs": [
    {
     "data": {
      "text/plain": [
       "0.8337752906397491"
      ]
     },
     "execution_count": 74,
     "metadata": {},
     "output_type": "execute_result"
    }
   ],
   "source": [
    "# To calculate the R-squared score on the test set.\n",
    "from sklearn.metrics import r2_score \n",
    "r2_score(y_test, y_pred)"
   ]
  },
  {
   "cell_type": "markdown",
   "metadata": {},
   "source": [
    "### I could achieve 83.3% accuracy from the model built."
   ]
  },
  {
   "cell_type": "markdown",
   "metadata": {},
   "source": [
    "Inference from the model:\n",
    "    1. 88% of the variance is explained by the model, R-squared 88% and Adj R-Squared 87.6%\n",
    "    2. Prob(F-statistic) is 6.12e-72 which is less than 0.05 and close to zero so the overall model is significant.\n",
    "    3. P-value of all the predictors are less than 0.05 except the bmw which little high (0.088) so predictors are statistically significant."
   ]
  },
  {
   "cell_type": "code",
   "execution_count": null,
   "metadata": {},
   "outputs": [],
   "source": []
  }
 ],
 "metadata": {
  "kernelspec": {
   "display_name": "Python 3",
   "language": "python",
   "name": "python3"
  },
  "language_info": {
   "codemirror_mode": {
    "name": "ipython",
    "version": 3
   },
   "file_extension": ".py",
   "mimetype": "text/x-python",
   "name": "python",
   "nbconvert_exporter": "python",
   "pygments_lexer": "ipython3",
   "version": "3.7.4"
  }
 },
 "nbformat": 4,
 "nbformat_minor": 2
}
